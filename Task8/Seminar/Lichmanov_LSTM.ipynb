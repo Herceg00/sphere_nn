{
  "nbformat": 4,
  "nbformat_minor": 0,
  "metadata": {
    "kernelspec": {
      "display_name": "Python 3",
      "language": "python",
      "name": "python3"
    },
    "language_info": {
      "codemirror_mode": {
        "name": "ipython",
        "version": 3
      },
      "file_extension": ".py",
      "mimetype": "text/x-python",
      "name": "python",
      "nbconvert_exporter": "python",
      "pygments_lexer": "ipython3",
      "version": "3.7.4"
    },
    "latex_envs": {
      "bibliofile": "biblio.bib",
      "cite_by": "apalike",
      "current_citInitial": 1,
      "eqLabelWithNumbers": true,
      "eqNumInitial": 0
    },
    "colab": {
      "name": "Practice task 7, LSTM.ipynb",
      "provenance": [],
      "toc_visible": true
    }
  },
  "cells": [
    {
      "cell_type": "markdown",
      "metadata": {
        "id": "csXKsHUrI-3w"
      },
      "source": [
        "## Семинар 9: \"LSTM\""
      ]
    },
    {
      "cell_type": "markdown",
      "metadata": {
        "id": "1pc9hOALI-3w"
      },
      "source": [
        "ФИО: Личманов Дмитрий Игоревич"
      ]
    },
    {
      "cell_type": "code",
      "metadata": {
        "id": "G7s97_hcI-3w"
      },
      "source": [
        "import numpy as np\n",
        "from sklearn.model_selection import train_test_split\n",
        "import matplotlib.pyplot as plt\n",
        "from torch import optim\n",
        "import torch\n",
        "from torch import nn\n",
        "import pandas\n",
        "from sklearn.preprocessing import MinMaxScaler\n",
        "from torch.utils.data import DataLoader, Dataset, TensorDataset\n",
        "from torch.autograd import Variable\n",
        "%matplotlib inline"
      ],
      "execution_count": 68,
      "outputs": []
    },
    {
      "cell_type": "markdown",
      "metadata": {
        "id": "a25uuzjiI-3x"
      },
      "source": [
        "Этот семинар посвящен реализации RNN в pyTorch"
      ]
    },
    {
      "cell_type": "markdown",
      "metadata": {
        "id": "tGedzoQCI-3x"
      },
      "source": [
        "## Задание 1"
      ]
    },
    {
      "cell_type": "markdown",
      "metadata": {
        "id": "VPxz9w8DI-3x"
      },
      "source": [
        "Напишите свою реализацию LSTM."
      ]
    },
    {
      "cell_type": "markdown",
      "metadata": {
        "id": "kBo185QPI-3x"
      },
      "source": [
        "<img src=\"https://cdn-images-1.medium.com/max/1600/1*hl9UVtgIcQkDIGD8VFykdw.png\" width=\"640\">"
      ]
    },
    {
      "cell_type": "code",
      "metadata": {
        "id": "nrgiY1pcI-3x"
      },
      "source": [
        "class LSTM(nn.Module):\n",
        "    def __init__(self, input_size, hidden_size):\n",
        "        super().__init__()\n",
        "        self.input_size = input_size\n",
        "        self.hidden_size = hidden_size\n",
        "        self.gate_size = 4 * self.hidden_size\n",
        "        \n",
        "        self.W_i = nn.Parameter(torch.Tensor(input_size, self.gate_size).zero_())\n",
        "        \n",
        "        self.W_h = nn.Parameter(torch.Tensor(hidden_size, self.gate_size).zero_())\n",
        "        \n",
        "        self.b = nn.Parameter(torch.Tensor(self.gate_size).zero_())\n",
        "        \n",
        "        \n",
        "    def forward(self, inputs, hidden):\n",
        "        # inputs: (seq_len, batch_size, input_size)\n",
        "        # hidden: (batch_size, hidden_size) x 2. (no layers)\n",
        "        \n",
        "        h, c = hidden\n",
        "        bs = h.size(0)\n",
        "        \n",
        "        seq_length = inputs.size(0)\n",
        "        out = Variable(torch.Tensor(seq_length, bs, self.hidden_size))\n",
        "        \n",
        "        for i, inp in enumerate(inputs):\n",
        "            S = (torch.matmul(inp, self.W_i) + torch.matmul(h, self.W_h) + self.b)\n",
        "            S = S.view(bs, 4, self.hidden_size)\n",
        "            \n",
        "            i_1 = torch.sigmoid(S[:,0,:])\n",
        "            f_1 = torch.sigmoid(S[:,1,:])\n",
        "            g_1 = torch.tanh(S[:,2,:])\n",
        "            o_1 = torch.sigmoid(S[:,3,:])\n",
        "            \n",
        "            c = f_1 * c + i_1 * g_1\n",
        "            h = o_1 * torch.tanh(c)\n",
        "            out[i] = h\n",
        "        return out, (h, c)"
      ],
      "execution_count": 69,
      "outputs": []
    },
    {
      "cell_type": "code",
      "metadata": {
        "id": "DD6DrEusZw9K",
        "colab": {
          "base_uri": "https://localhost:8080/"
        },
        "outputId": "53f86573-3edb-49cc-b464-236d83b82933"
      },
      "source": [
        "a = torch.Tensor(2,3,4)\n",
        "b = torch.Tensor(4,2)\n",
        "c = torch.matmul(a,b)\n",
        "c.shape"
      ],
      "execution_count": null,
      "outputs": [
        {
          "output_type": "execute_result",
          "data": {
            "text/plain": [
              "torch.Size([2, 3, 2])"
            ]
          },
          "metadata": {
            "tags": []
          },
          "execution_count": 20
        }
      ]
    },
    {
      "cell_type": "code",
      "metadata": {
        "id": "XoOafKEMoGRS",
        "colab": {
          "base_uri": "https://localhost:8080/"
        },
        "outputId": "4040733c-5eb6-4abb-a6de-573cdf1127f9"
      },
      "source": [
        "torch.matmul(b,a)"
      ],
      "execution_count": null,
      "outputs": [
        {
          "output_type": "execute_result",
          "data": {
            "text/plain": [
              "tensor([nan, 0., 0., 0.])"
            ]
          },
          "metadata": {
            "tags": []
          },
          "execution_count": 16
        }
      ]
    },
    {
      "cell_type": "markdown",
      "metadata": {
        "collapsed": true,
        "id": "pfhauGZSI-3x"
      },
      "source": [
        "## Задание 2"
      ]
    },
    {
      "cell_type": "markdown",
      "metadata": {
        "id": "e3VGk0QkI-3x"
      },
      "source": [
        "Используя свою реализацию LSTM и torch.nn.LSTM (torch.nn.GRU) решить задачу предсказания временного ряда.\n",
        "Попробуйте разные длины входной и выходной последовательности.\n",
        "С помощью обученной сети получить из train-части временного ряда test-часть."
      ]
    },
    {
      "cell_type": "markdown",
      "metadata": {
        "id": "xTz7A7ZwI-3x"
      },
      "source": [
        "Данные о количестве пассажиров\n",
        "https://datamarket.com/data/set/22u3/international-airline-passengers-monthly-totals-in-thousands-jan-49-dec-60#!ds=22u3&display=line"
      ]
    },
    {
      "cell_type": "code",
      "metadata": {
        "id": "zRpF49q9I-3x",
        "colab": {
          "base_uri": "https://localhost:8080/",
          "height": 265
        },
        "outputId": "5f3201ec-dd99-46af-aa33-ac108415125e"
      },
      "source": [
        "%matplotlib inline\n",
        "dataset = pandas.read_csv('international-airline-passengers.csv', usecols=[1], delimiter=\";\", engine='python', skipfooter=3)\n",
        "plt.plot(dataset)\n",
        "plt.show()"
      ],
      "execution_count": 108,
      "outputs": [
        {
          "output_type": "display_data",
          "data": {
            "image/png": "[encoded data removed]",
            "text/plain": [
              "<Figure size 432x288 with 1 Axes>"
            ]
          },
          "metadata": {
            "tags": [],
            "needs_background": "light"
          }
        }
      ]
    },
    {
      "cell_type": "code",
      "metadata": {
        "id": "3CHee-pBwurd",
        "colab": {
          "base_uri": "https://localhost:8080/"
        },
        "outputId": "8d7ca463-c625-471c-b77a-9f11009df1e5"
      },
      "source": [
        "dataset.shape"
      ],
      "execution_count": 109,
      "outputs": [
        {
          "output_type": "execute_result",
          "data": {
            "text/plain": [
              "(144, 1)"
            ]
          },
          "metadata": {
            "tags": []
          },
          "execution_count": 109
        }
      ]
    },
    {
      "cell_type": "code",
      "metadata": {
        "id": "HHT3OyxPI-3y"
      },
      "source": [
        "# подготовливаем данные\n",
        "\n",
        "dataset = dataset.values\n",
        "dataset = dataset.astype('float32')\n",
        "scaler = MinMaxScaler(feature_range=(0, 1))\n",
        "dataset = scaler.fit_transform(dataset)\n"
      ],
      "execution_count": 110,
      "outputs": []
    },
    {
      "cell_type": "code",
      "metadata": {
        "id": "jxLBFJaru-Ad",
        "colab": {
          "base_uri": "https://localhost:8080/",
          "height": 265
        },
        "outputId": "7c55a2e5-9959-4a32-a904-7be512c23437"
      },
      "source": [
        "plt.plot(dataset)\n",
        "plt.show()"
      ],
      "execution_count": 111,
      "outputs": [
        {
          "output_type": "display_data",
          "data": {
            "image/png": "[encoded data removed]",
            "text/plain": [
              "<Figure size 432x288 with 1 Axes>"
            ]
          },
          "metadata": {
            "tags": [],
            "needs_background": "light"
          }
        }
      ]
    },
    {
      "cell_type": "code",
      "metadata": {
        "id": "fHk2UUUMI-3y",
        "colab": {
          "base_uri": "https://localhost:8080/"
        },
        "outputId": "8f574cee-9e3b-4b6d-ab5e-857b252a59f1"
      },
      "source": [
        "# разбиваем данные на train / test\n",
        "train_size = int(len(dataset) * 0.67)\n",
        "test_size = len(dataset) - train_size\n",
        "train, test = dataset[0:train_size,:], dataset[train_size:len(dataset),:]\n",
        "print(len(train), len(test))"
      ],
      "execution_count": 112,
      "outputs": [
        {
          "output_type": "stream",
          "text": [
            "96 48\n"
          ],
          "name": "stdout"
        }
      ]
    },
    {
      "cell_type": "code",
      "metadata": {
        "id": "wnRwecAMI-3z"
      },
      "source": [
        "# Целевая переменная - сдвинутая последовательность значений входов\n",
        "\n",
        "def create_dataset(dataset, look_back=1, look_forward=1):\n",
        "    dataX, dataY = [], []\n",
        "    for i in range(len(dataset)-look_back-1-look_forward):\n",
        "        a = dataset[i:(i+look_back), 0]\n",
        "        dataX.append(a)\n",
        "        dataY.append(dataset[i + look_back : (i + look_back + look_forward), 0])\n",
        "\n",
        "    return np.array(dataX), np.array(dataY)"
      ],
      "execution_count": 113,
      "outputs": []
    },
    {
      "cell_type": "code",
      "metadata": {
        "id": "QRCR1dfK4Nio",
        "colab": {
          "base_uri": "https://localhost:8080/"
        },
        "outputId": "e6d7820e-86fe-4541-bc55-8271d15d2b6e"
      },
      "source": [
        "train.shape"
      ],
      "execution_count": 114,
      "outputs": [
        {
          "output_type": "execute_result",
          "data": {
            "text/plain": [
              "(96, 1)"
            ]
          },
          "metadata": {
            "tags": []
          },
          "execution_count": 114
        }
      ]
    },
    {
      "cell_type": "code",
      "metadata": {
        "id": "RwoyYmkqI-3z"
      },
      "source": [
        "# Пример подготовленных данных\n",
        "\n",
        "look_back = 1\n",
        "look_forward = 1\n",
        "trainX, trainY = create_dataset(train, look_back, look_forward)\n",
        "testX, testY = create_dataset(test, look_back, look_forward)"
      ],
      "execution_count": 115,
      "outputs": []
    },
    {
      "cell_type": "code",
      "metadata": {
        "id": "9jEKGKyQ3jPN",
        "colab": {
          "base_uri": "https://localhost:8080/"
        },
        "outputId": "e5ecf1a7-e45b-4ecc-f1c6-f34b813b6d61"
      },
      "source": [
        "print(trainX.shape)\n",
        "print(trainY.shape)\n",
        "print(testX.shape)\n",
        "print(testY.shape)"
      ],
      "execution_count": 116,
      "outputs": [
        {
          "output_type": "stream",
          "text": [
            "(93, 1)\n",
            "(93, 1)\n",
            "(45, 1)\n",
            "(45, 1)\n"
          ],
          "name": "stdout"
        }
      ]
    },
    {
      "cell_type": "code",
      "metadata": {
        "id": "M4LWHY7_I-3z"
      },
      "source": [
        "train_dataset = TensorDataset(torch.from_numpy(trainX), torch.from_numpy(trainY))"
      ],
      "execution_count": 117,
      "outputs": []
    },
    {
      "cell_type": "code",
      "metadata": {
        "id": "TDGuUSYqI-3z"
      },
      "source": [
        "train_dataloader =  DataLoader(train_dataset, batch_size = 1)"
      ],
      "execution_count": 118,
      "outputs": []
    },
    {
      "cell_type": "code",
      "metadata": {
        "id": "iKY1j6D1jy1C"
      },
      "source": [
        "test_dataset = TensorDataset(torch.from_numpy(testX), torch.from_numpy(testY))"
      ],
      "execution_count": 119,
      "outputs": []
    },
    {
      "cell_type": "code",
      "metadata": {
        "id": "Y7YjEuQaj3SU"
      },
      "source": [
        "test_dataloader = DataLoader(test_dataset,batch_size = 1)"
      ],
      "execution_count": 120,
      "outputs": []
    },
    {
      "cell_type": "code",
      "metadata": {
        "id": "o4g0ov5hyRop"
      },
      "source": [
        "class LSTM_Wrapper(nn.Module):\n",
        "    def __init__(self, input_size=1, hidden_layer_size=100, output_size=1):\n",
        "        super().__init__()\n",
        "\n",
        "        self.hidden_layer_size = hidden_layer_size\n",
        "        #Use custom version of LSTM cell \n",
        "        self.lstm = nn.LSTM(input_size, hidden_layer_size)\n",
        "\n",
        "        self.linear = nn.Linear(hidden_layer_size, output_size)\n",
        "\n",
        "        # Saved cell\n",
        "        self.hidden_cell = (torch.zeros(1,1, hidden_layer_size),\n",
        "                            torch.zeros(1,1, hidden_layer_size))\n",
        "\n",
        "    def forward(self, input_seq):\n",
        "        lstm_out, self.hidden_cell = self.lstm(input_seq, self.hidden_cell)\n",
        "        predictions = self.linear(lstm_out.view(len(input_seq), -1))\n",
        "        return predictions[-1]"
      ],
      "execution_count": 130,
      "outputs": []
    },
    {
      "cell_type": "code",
      "metadata": {
        "id": "MNwXWpM-0sA1"
      },
      "source": [
        "model = LSTM_Wrapper()\n",
        "loss_function = nn.MSELoss()\n",
        "optimizer = torch.optim.Adam(model.parameters(), lr=0.001)"
      ],
      "execution_count": 131,
      "outputs": []
    },
    {
      "cell_type": "code",
      "metadata": {
        "id": "prA-AGr50sHx",
        "outputId": "4ee5513e-1f62-4c3c-a591-a7c634f996e7",
        "colab": {
          "base_uri": "https://localhost:8080/"
        }
      },
      "source": [
        "epochs = 150\n",
        "\n",
        "for i in range(epochs):\n",
        "    for seq, labels in train_dataloader:\n",
        "        optimizer.zero_grad()\n",
        "        model.hidden_cell = (torch.zeros(1, 1, model.hidden_layer_size),\n",
        "                        torch.zeros(1, 1, model.hidden_layer_size))\n",
        "        seq = seq[:,None,:]\n",
        "        y_pred = model(seq)\n",
        "\n",
        "        single_loss = loss_function(y_pred, labels)\n",
        "        single_loss.backward()\n",
        "        optimizer.step()\n",
        "\n",
        "    if i%5 == 1:\n",
        "        print(f'epoch: {i:3} loss: {single_loss.item():10.8f}')\n",
        "\n",
        "print(f'epoch: {i:3} loss: {single_loss.item():10.10f}')"
      ],
      "execution_count": 132,
      "outputs": [
        {
          "output_type": "stream",
          "text": [
            "/usr/local/lib/python3.6/dist-packages/torch/nn/modules/loss.py:446: UserWarning: Using a target size (torch.Size([1, 1])) that is different to the input size (torch.Size([1])). This will likely lead to incorrect results due to broadcasting. Please ensure they have the same size.\n",
            "  return F.mse_loss(input, target, reduction=self.reduction)\n"
          ],
          "name": "stderr"
        },
        {
          "output_type": "stream",
          "text": [
            "epoch:   1 loss: 0.00105877\n",
            "epoch:   6 loss: 0.00835615\n",
            "epoch:  11 loss: 0.01017837\n",
            "epoch:  16 loss: 0.01031162\n",
            "epoch:  21 loss: 0.01039026\n",
            "epoch:  26 loss: 0.01043265\n",
            "epoch:  31 loss: 0.01044653\n",
            "epoch:  36 loss: 0.01044014\n",
            "epoch:  41 loss: 0.01041977\n",
            "epoch:  46 loss: 0.01041222\n",
            "epoch:  51 loss: 0.01035279\n",
            "epoch:  56 loss: 0.01033976\n",
            "epoch:  61 loss: 0.01026506\n",
            "epoch:  66 loss: 0.01022153\n",
            "epoch:  71 loss: 0.01017000\n",
            "epoch:  76 loss: 0.01013896\n",
            "epoch:  81 loss: 0.01007177\n",
            "epoch:  86 loss: 0.01002565\n",
            "epoch:  91 loss: 0.00996908\n",
            "epoch:  96 loss: 0.00991941\n",
            "epoch: 101 loss: 0.00986269\n",
            "epoch: 106 loss: 0.00980869\n",
            "epoch: 111 loss: 0.00975608\n",
            "epoch: 116 loss: 0.00970382\n",
            "epoch: 121 loss: 0.00965139\n",
            "epoch: 126 loss: 0.00960122\n",
            "epoch: 131 loss: 0.00955244\n",
            "epoch: 136 loss: 0.00950503\n",
            "epoch: 141 loss: 0.00945634\n",
            "epoch: 146 loss: 0.00940856\n",
            "epoch: 149 loss: 0.0093811015\n"
          ],
          "name": "stdout"
        }
      ]
    },
    {
      "cell_type": "code",
      "metadata": {
        "id": "SMWtPQmV0sKI",
        "outputId": "823f6520-3d96-44cc-f05a-da5d83669963",
        "colab": {
          "base_uri": "https://localhost:8080/"
        }
      },
      "source": [
        "test_dataloader"
      ],
      "execution_count": 133,
      "outputs": [
        {
          "output_type": "execute_result",
          "data": {
            "text/plain": [
              "<torch.utils.data.dataloader.DataLoader at 0x7fe75d09e7f0>"
            ]
          },
          "metadata": {
            "tags": []
          },
          "execution_count": 133
        }
      ]
    },
    {
      "cell_type": "code",
      "metadata": {
        "id": "560mK4kD02SE",
        "outputId": "746cc746-f71a-4904-fb61-7d2decd7c086",
        "colab": {
          "base_uri": "https://localhost:8080/",
          "height": 265
        }
      },
      "source": [
        "plt.plot(dataset)\n",
        "plt.show()"
      ],
      "execution_count": 134,
      "outputs": [
        {
          "output_type": "display_data",
          "data": {
            "image/png": "[encoded data removed]",
            "text/plain": [
              "<Figure size 432x288 with 1 Axes>"
            ]
          },
          "metadata": {
            "tags": [],
            "needs_background": "light"
          }
        }
      ]
    },
    {
      "cell_type": "code",
      "metadata": {
        "id": "EZXyFlYj02WB"
      },
      "source": [
        "predictions = []\n",
        "start_point = trainX.shape[0]\n",
        "months = []\n",
        "for seq, labels in test_dataloader:\n",
        "        seq = seq[:,None,:]\n",
        "        y_pred = model(seq)\n",
        "        months.append(start_point)\n",
        "        start_point += 1\n",
        "        predictions.append(y_pred)"
      ],
      "execution_count": 137,
      "outputs": []
    },
    {
      "cell_type": "code",
      "metadata": {
        "id": "Hj9qTneW9SAQ",
        "outputId": "e65138e6-cc0b-4a7a-87e3-068ed0ee940a",
        "colab": {
          "base_uri": "https://localhost:8080/",
          "height": 283
        }
      },
      "source": [
        "plt.plot(months, predictions)"
      ],
      "execution_count": 138,
      "outputs": [
        {
          "output_type": "execute_result",
          "data": {
            "text/plain": [
              "[<matplotlib.lines.Line2D at 0x7fe75c4b2860>]"
            ]
          },
          "metadata": {
            "tags": []
          },
          "execution_count": 138
        },
        {
          "output_type": "display_data",
          "data": {
            "image/png": "[encoded data removed]",
            "text/plain": [
              "<Figure size 432x288 with 1 Axes>"
            ]
          },
          "metadata": {
            "tags": [],
            "needs_background": "light"
          }
        }
      ]
    },
    {
      "cell_type": "code",
      "metadata": {
        "id": "jlJFVs9v9Um7",
        "outputId": "be76a8f4-3f2b-43ef-f449-f6ae38b18f5c",
        "colab": {
          "base_uri": "https://localhost:8080/",
          "height": 265
        }
      },
      "source": [
        "plt.plot(dataset)\n",
        "plt.plot(months, predictions)\n",
        "plt.show()"
      ],
      "execution_count": 139,
      "outputs": [
        {
          "output_type": "display_data",
          "data": {
            "image/png": "[encoded data removed]",
            "text/plain": [
              "<Figure size 432x288 with 1 Axes>"
            ]
          },
          "metadata": {
            "tags": [],
            "needs_background": "light"
          }
        }
      ]
    },
    {
      "cell_type": "markdown",
      "metadata": {
        "id": "_JCa1UqKI-3z"
      },
      "source": [
        "#### Feedback (опционально)"
      ]
    },
    {
      "cell_type": "markdown",
      "metadata": {
        "id": "CTptZoi8I-3z"
      },
      "source": [
        "Здесь вы можете оставить список опечаток из лекции или семинара:"
      ]
    },
    {
      "cell_type": "markdown",
      "metadata": {
        "id": "Y40AzzDyI-3z"
      },
      "source": [
        ""
      ]
    },
    {
      "cell_type": "markdown",
      "metadata": {
        "id": "TGWMSid_I-3z"
      },
      "source": [
        "Здесь вы можете оставить комментарии по лекции или семинару:"
      ]
    },
    {
      "cell_type": "markdown",
      "metadata": {
        "id": "okcvmg3cI-3z"
      },
      "source": [
        ""
      ]
    }
  ]
}