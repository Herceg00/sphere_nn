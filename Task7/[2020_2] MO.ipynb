{
  "nbformat": 4,
  "nbformat_minor": 0,
  "metadata": {
    "kernelspec": {
      "name": "python3",
      "display_name": "Python 3"
    },
    "latex_envs": {
      "bibliofile": "biblio.bib",
      "cite_by": "apalike",
      "current_citInitial": 1,
      "eqLabelWithNumbers": true,
      "eqNumInitial": 0
    },
    "colab": {
      "name": "MO.ipynb",
      "provenance": [],
      "collapsed_sections": []
    }
  },
  "cells": [
    {
      "cell_type": "markdown",
      "metadata": {
        "id": "aXLidmkbHeki"
      },
      "source": [
        "## Семинар 7: \"Методы оптимизации\""
      ]
    },
    {
      "cell_type": "markdown",
      "metadata": {
        "id": "tPz4WJYpHekl"
      },
      "source": [
        "ФИО:"
      ]
    },
    {
      "cell_type": "code",
      "metadata": {
        "id": "UYHyMR2JHekm"
      },
      "source": [
        "import numpy as np\n",
        "#from sklearn.datasets import fetch_mldata\n",
        "#from sklearn.cross_validation import train_test_split\n",
        "import matplotlib.pyplot as plt\n",
        "import torch\n",
        "from torch import nn\n",
        "from torch.autograd import Variable\n",
        "import seaborn as sns\n",
        "%matplotlib inline"
      ],
      "execution_count": 44,
      "outputs": []
    },
    {
      "cell_type": "markdown",
      "metadata": {
        "id": "s0m9PYV0Heks"
      },
      "source": [
        "На этом семинаре мы попробуем сравнить различные методы оптимизации: GD, Momentum, NAG, Adagrad, Adadelta, Adam."
      ]
    },
    {
      "cell_type": "markdown",
      "metadata": {
        "id": "0eMY77ysHekt"
      },
      "source": [
        "### Часть 1: Реализация методов"
      ]
    },
    {
      "cell_type": "markdown",
      "metadata": {
        "id": "kdRr-MQcHeku"
      },
      "source": [
        "Полезная функция: plt.contour\n",
        "Для всех экспериментов подберите параметры так, чтобы метод сошелся к ближайшему локальному минимуму. Все методы следует запускать из одной и той же точки."
      ]
    },
    {
      "cell_type": "markdown",
      "metadata": {
        "id": "_8R8DqapHekv"
      },
      "source": [
        "<i> 1.1 Реализуйте методы GD, Momentum, NAG, Adagrad, Adadelta, Adam.</i>"
      ]
    },
    {
      "cell_type": "code",
      "metadata": {
        "id": "5wIBE0-AHekw"
      },
      "source": [
        "class Optimizer:\n",
        "  def __init__(self, parameters):\n",
        "    self.parameters = parameters\n",
        "\n",
        "  def zero_grad(self):\n",
        "    for param in self.parameters:\n",
        "      try:\n",
        "        param.grad.zero_()\n",
        "      except:\n",
        "        pass\n",
        "  \n",
        "  def step(self, F):\n",
        "    loss = F()\n",
        "    loss.backward()\n",
        "\n",
        "class SGD(Optimizer):\n",
        "  def __init__(self, parameters, lr=0.1):\n",
        "    self.parameters = parameters\n",
        "    self.lr = lr\n",
        "  \n",
        "  def step(self, F):\n",
        "    super().step(F)\n",
        "\n",
        "    with torch.no_grad():\n",
        "      for param in self.parameters:      \n",
        "        param -= self.lr * param.grad\n",
        "        #param.__idiff__(self.lr * param.grad)\n",
        "        #param = param - self.lr * param.grad\n",
        "        #param.set_(param - self.lr * param.grad)\n",
        "\n",
        "class Momentum(Optimizer):\n",
        "  def __init__(self, parameters, lr=0.1, gamma=0.9):\n",
        "    self.parameters = parameters    \n",
        "    self.params_step = [torch.zeros_like(param) for param in self.parameters]\n",
        "\n",
        "    self.lr = lr\n",
        "    self.gamma = gamma\n",
        "  \n",
        "  def step(self, F):\n",
        "    super().step(F)\n",
        "\n",
        "    with torch.no_grad():\n",
        "      for param, step in zip(self.parameters, self.params_step):\n",
        "        step.set_(self.gamma * step + self.lr * param.grad)\n",
        "        param -= step\n",
        "\n",
        "class NAG(Optimizer):\n",
        "  def __init__(self, parameters, lr=0.1, gamma=0.9):\n",
        "    self.parameters = parameters    \n",
        "    self.params_step = [torch.zeros_like(param) for param in self.parameters]\n",
        "\n",
        "    self.lr = lr\n",
        "    self.gamma = gamma\n",
        "  \n",
        "  def step(self, F):\n",
        "    with torch.no_grad():\n",
        "      for param, step in zip(self.parameters, self.params_step):\n",
        "        param -= self.gamma * step\n",
        "\n",
        "    super().step(F)\n",
        "\n",
        "    with torch.no_grad():\n",
        "      for param, step in zip(self.parameters, self.params_step):\n",
        "        param += self.gamma * step\n",
        "        \n",
        "        step.set_(self.gamma * step + self.lr * param.grad)\n",
        "        param -= step\n",
        "\n",
        "class Adadelta(Optimizer):\n",
        "  def __init__(self, parameters, gamma=0.9):\n",
        "    self.parameters = parameters    \n",
        "    self.params_gs = [torch.zeros_like(param) for param in self.parameters]\n",
        "\n",
        "    self.first_call = True    \n",
        "\n",
        "    self.lr = 1\n",
        "    self.gamma = gamma\n",
        "    self.eps = 0.00001\n",
        "  \n",
        "  def step(self, F):\n",
        "    super().step(F)\n",
        "\n",
        "    sum_step = 0\n",
        "    num_params = 0\n",
        "    with torch.no_grad():\n",
        "      for param, gs in zip(self.parameters, self.params_gs):\n",
        "        if self.first_call:\n",
        "          gs.set_(param.grad**2)\n",
        "        else:\n",
        "          gs.set_(self.gamma * gs + (1.0 - self.gamma) * param.grad**2)\n",
        "\n",
        "        step = self.lr / (gs + self.eps).sqrt() * param.grad\n",
        "\n",
        "        sum_step += step.sum()\n",
        "        num_params += step.numel()\n",
        "\n",
        "        param -= step\n",
        "\n",
        "    self.lr = self.gamma * self.lr + (1 - self.gamma) * sum_step / num_params\n",
        "\n",
        "    self.first_call = False"
      ],
      "execution_count": 122,
      "outputs": []
    },
    {
      "cell_type": "markdown",
      "metadata": {
        "id": "Nqum7a3oHek1"
      },
      "source": [
        "<i> 1.2 Сравните эти методы на функции $J(x, y) = x^2+y^2$</i>"
      ]
    },
    {
      "cell_type": "code",
      "metadata": {
        "id": "sE-5VmAaHek2",
        "outputId": "010afe97-dd92-4a71-dd91-bf1e2254b2e5",
        "colab": {
          "base_uri": "https://localhost:8080/",
          "height": 89
        }
      },
      "source": [
        "# sin(x) + cos(y)\n",
        "\n",
        "def f(x):\n",
        "  return x[0].sin() + x[1].cos() + (x.sum())**2\n",
        "  #return (x**2).sum(axis=-1)\n",
        "\n",
        "optimizers = [(SGD, \"red\"), (Momentum, \"green\"), (NAG, \"blue\"), (Adadelta, \"black\")]\n",
        "\n",
        "all_ways = []\n",
        "\n",
        "for optimizer, _ in optimizers:\n",
        "  x = nn.Parameter(torch.tensor([0.5, 0.7]))\n",
        "  optimizer = optimizer([x])\n",
        "\n",
        "  points = []\n",
        "  for i in range(5):  \n",
        "      optimizer.zero_grad()\n",
        "      optimizer.step(lambda x=x: f(x))\n",
        "\n",
        "      points.append(x.detach().numpy().copy())\n",
        "      #print(points[-1])\n",
        "\n",
        "  print(f(x))\n",
        "\n",
        "  points = np.array(points)\n",
        "  all_ways.append(points)"
      ],
      "execution_count": 127,
      "outputs": [
        {
          "output_type": "stream",
          "text": [
            "tensor(0.4515, grad_fn=<AddBackward0>)\n",
            "tensor(1.1094, grad_fn=<AddBackward0>)\n",
            "tensor(-0.0284, grad_fn=<AddBackward0>)\n",
            "tensor(-0.4245, grad_fn=<AddBackward0>)\n"
          ],
          "name": "stdout"
        }
      ]
    },
    {
      "cell_type": "code",
      "metadata": {
        "id": "ZgdgK9u3RKyU",
        "outputId": "18efa85f-a87c-4b1d-d05f-5b4813da87ee",
        "colab": {
          "base_uri": "https://localhost:8080/",
          "height": 598
        }
      },
      "source": [
        "from mpl_toolkits.mplot3d import axes3d\n",
        "import matplotlib.pyplot as plt\n",
        "import numpy\n",
        "\n",
        "def cartesian_product(*arrays):\n",
        "    la = len(arrays)\n",
        "    dtype = numpy.result_type(*arrays)\n",
        "    arr = numpy.empty([len(a) for a in arrays] + [la], dtype=dtype)\n",
        "    for i, a in enumerate(numpy.ix_(*arrays)):\n",
        "        arr[...,i] = a\n",
        "    return arr.reshape(-1, la)\n",
        "\n",
        "fig = plt.figure()\n",
        "ax = fig.add_subplot(111, projection='3d')\n",
        "\n",
        "size = 10\n",
        "n = 100\n",
        "\n",
        "X = np.linspace(-size, size, n)\n",
        "Y = np.linspace(-size, size, n)\n",
        "\n",
        "Z = f(cartesian_product(X, Y)).reshape(n, n)\n",
        "\n",
        "#print(Z)\n",
        "\n",
        "#ax.plot_wireframe(X, Y, Z, rstride=10, cstride=10)\n",
        "ax.plot_wireframe(X, Y, Z)\n",
        "\n",
        "plt.show()"
      ],
      "execution_count": 105,
      "outputs": [
        {
          "output_type": "error",
          "ename": "AttributeError",
          "evalue": "ignored",
          "traceback": [
            "\u001b[0;31m---------------------------------------------------------------------------\u001b[0m",
            "\u001b[0;31mAttributeError\u001b[0m                            Traceback (most recent call last)",
            "\u001b[0;32m<ipython-input-105-a63f20b098e8>\u001b[0m in \u001b[0;36m<module>\u001b[0;34m()\u001b[0m\n\u001b[1;32m     20\u001b[0m \u001b[0mY\u001b[0m \u001b[0;34m=\u001b[0m \u001b[0mnp\u001b[0m\u001b[0;34m.\u001b[0m\u001b[0mlinspace\u001b[0m\u001b[0;34m(\u001b[0m\u001b[0;34m-\u001b[0m\u001b[0msize\u001b[0m\u001b[0;34m,\u001b[0m \u001b[0msize\u001b[0m\u001b[0;34m,\u001b[0m \u001b[0mn\u001b[0m\u001b[0;34m)\u001b[0m\u001b[0;34m\u001b[0m\u001b[0;34m\u001b[0m\u001b[0m\n\u001b[1;32m     21\u001b[0m \u001b[0;34m\u001b[0m\u001b[0m\n\u001b[0;32m---> 22\u001b[0;31m \u001b[0mZ\u001b[0m \u001b[0;34m=\u001b[0m \u001b[0mf\u001b[0m\u001b[0;34m(\u001b[0m\u001b[0mcartesian_product\u001b[0m\u001b[0;34m(\u001b[0m\u001b[0mX\u001b[0m\u001b[0;34m,\u001b[0m \u001b[0mY\u001b[0m\u001b[0;34m)\u001b[0m\u001b[0;34m)\u001b[0m\u001b[0;34m.\u001b[0m\u001b[0mreshape\u001b[0m\u001b[0;34m(\u001b[0m\u001b[0mn\u001b[0m\u001b[0;34m,\u001b[0m \u001b[0mn\u001b[0m\u001b[0;34m)\u001b[0m\u001b[0;34m\u001b[0m\u001b[0;34m\u001b[0m\u001b[0m\n\u001b[0m\u001b[1;32m     23\u001b[0m \u001b[0;34m\u001b[0m\u001b[0m\n\u001b[1;32m     24\u001b[0m \u001b[0;31m#print(Z)\u001b[0m\u001b[0;34m\u001b[0m\u001b[0;34m\u001b[0m\u001b[0;34m\u001b[0m\u001b[0m\n",
            "\u001b[0;32m<ipython-input-104-d29d179536b8>\u001b[0m in \u001b[0;36mf\u001b[0;34m(x)\u001b[0m\n\u001b[1;32m      1\u001b[0m \u001b[0;32mdef\u001b[0m \u001b[0mf\u001b[0m\u001b[0;34m(\u001b[0m\u001b[0mx\u001b[0m\u001b[0;34m)\u001b[0m\u001b[0;34m:\u001b[0m\u001b[0;34m\u001b[0m\u001b[0;34m\u001b[0m\u001b[0m\n\u001b[0;32m----> 2\u001b[0;31m   \u001b[0;32mreturn\u001b[0m \u001b[0;34m(\u001b[0m\u001b[0mx\u001b[0m\u001b[0;34m**\u001b[0m\u001b[0;36m2\u001b[0m \u001b[0;34m*\u001b[0m \u001b[0mx\u001b[0m\u001b[0;34m.\u001b[0m\u001b[0msin\u001b[0m\u001b[0;34m(\u001b[0m\u001b[0;34m)\u001b[0m\u001b[0;34m)\u001b[0m\u001b[0;34m.\u001b[0m\u001b[0msum\u001b[0m\u001b[0;34m(\u001b[0m\u001b[0;34m)\u001b[0m\u001b[0;34m\u001b[0m\u001b[0;34m\u001b[0m\u001b[0m\n\u001b[0m\u001b[1;32m      3\u001b[0m   \u001b[0;31m#return (x**2).sum(axis=-1)\u001b[0m\u001b[0;34m\u001b[0m\u001b[0;34m\u001b[0m\u001b[0;34m\u001b[0m\u001b[0m\n\u001b[1;32m      4\u001b[0m \u001b[0;34m\u001b[0m\u001b[0m\n\u001b[1;32m      5\u001b[0m \u001b[0moptimizers\u001b[0m \u001b[0;34m=\u001b[0m \u001b[0;34m[\u001b[0m\u001b[0;34m(\u001b[0m\u001b[0mSGD\u001b[0m\u001b[0;34m,\u001b[0m \u001b[0;34m\"red\"\u001b[0m\u001b[0;34m)\u001b[0m\u001b[0;34m,\u001b[0m \u001b[0;34m(\u001b[0m\u001b[0mMomentum\u001b[0m\u001b[0;34m,\u001b[0m \u001b[0;34m\"green\"\u001b[0m\u001b[0;34m)\u001b[0m\u001b[0;34m,\u001b[0m \u001b[0;34m(\u001b[0m\u001b[0mNAG\u001b[0m\u001b[0;34m,\u001b[0m \u001b[0;34m\"blue\"\u001b[0m\u001b[0;34m)\u001b[0m\u001b[0;34m,\u001b[0m \u001b[0;34m(\u001b[0m\u001b[0mAdadelta\u001b[0m\u001b[0;34m,\u001b[0m \u001b[0;34m\"black\"\u001b[0m\u001b[0;34m)\u001b[0m\u001b[0;34m]\u001b[0m\u001b[0;34m\u001b[0m\u001b[0;34m\u001b[0m\u001b[0m\n",
            "\u001b[0;31mAttributeError\u001b[0m: 'numpy.ndarray' object has no attribute 'sin'"
          ]
        },
        {
          "output_type": "display_data",
          "data": {
            "image/png": "[encoded data removed]",
            "text/plain": [
              "<Figure size 432x288 with 1 Axes>"
            ]
          },
          "metadata": {
            "tags": [],
            "needs_background": "light"
          }
        }
      ]
    },
    {
      "cell_type": "code",
      "metadata": {
        "id": "S8yZj7vpOxVS",
        "outputId": "235ec3a4-876d-40b5-c43e-be23a1d0f120",
        "colab": {
          "base_uri": "https://localhost:8080/",
          "height": 283
        }
      },
      "source": [
        "for points, (_, color) in zip(all_ways, optimizers):\n",
        "  plt.plot(points[:, 0], points[:, 1], c=color)\n",
        "\n",
        "plt.axis('equal')"
      ],
      "execution_count": 126,
      "outputs": [
        {
          "output_type": "execute_result",
          "data": {
            "text/plain": [
              "(1.9041341185569762, 4.928708469867706, 1.681746530532837, 4.110130262374878)"
            ]
          },
          "metadata": {
            "tags": []
          },
          "execution_count": 126
        },
        {
          "output_type": "display_data",
          "data": {
            "image/png": "[encoded data removed]",
            "text/plain": [
              "<Figure size 432x288 with 1 Axes>"
            ]
          },
          "metadata": {
            "tags": [],
            "needs_background": "light"
          }
        }
      ]
    },
    {
      "cell_type": "code",
      "metadata": {
        "id": "22XTA9JlPVBc",
        "outputId": "3e1314a8-d12d-42ba-ae20-6fe6f6f8543e",
        "colab": {
          "base_uri": "https://localhost:8080/",
          "height": 35
        }
      },
      "source": [
        "plot"
      ],
      "execution_count": 48,
      "outputs": [
        {
          "output_type": "execute_result",
          "data": {
            "text/plain": [
              "[<matplotlib.lines.Line2D at 0x7f05e56b6898>]"
            ]
          },
          "metadata": {
            "tags": []
          },
          "execution_count": 48
        }
      ]
    },
    {
      "cell_type": "markdown",
      "metadata": {
        "id": "syfEROZMHek7"
      },
      "source": [
        "<i>1.3 Сравните эти методы на функции $J(x, y) = x^2sin(x)+y^2sin(y)$</i>"
      ]
    },
    {
      "cell_type": "code",
      "metadata": {
        "id": "3ZdU20FyHek8"
      },
      "source": [
        ""
      ],
      "execution_count": null,
      "outputs": []
    },
    {
      "cell_type": "markdown",
      "metadata": {
        "id": "bXmJ1qTmHelB"
      },
      "source": [
        "<i>1.3 Сравните эти методы на функции $J(x,y)=x^2sin(x^2)+y^2sin(y^2)$</i>"
      ]
    },
    {
      "cell_type": "code",
      "metadata": {
        "id": "zPfUfugkHelC"
      },
      "source": [
        ""
      ],
      "execution_count": null,
      "outputs": []
    },
    {
      "cell_type": "markdown",
      "metadata": {
        "id": "2qXJFdXdHelH"
      },
      "source": [
        "###  Часть 2: Обучение нейронной сети"
      ]
    },
    {
      "cell_type": "markdown",
      "metadata": {
        "id": "gJSANZGxHelI"
      },
      "source": [
        "<i> 2.1 Сравните графики обучения для полносвязной нейросети на методах Adam, Adagrad, AdaDelta и SGD (на MNIST). </i>"
      ]
    },
    {
      "cell_type": "code",
      "metadata": {
        "id": "m_gJID3xHelJ"
      },
      "source": [
        ""
      ],
      "execution_count": null,
      "outputs": []
    },
    {
      "cell_type": "markdown",
      "metadata": {
        "id": "s6mLSB5nHelN"
      },
      "source": [
        "<i> 2.2 Сравните графики обучения для сверточной нейросети на методах Adam, Adagrad, AdaDelta и SGD. </i>"
      ]
    },
    {
      "cell_type": "code",
      "metadata": {
        "id": "PhluAFYnHelN"
      },
      "source": [
        ""
      ],
      "execution_count": null,
      "outputs": []
    },
    {
      "cell_type": "markdown",
      "metadata": {
        "id": "ASoxTNbBHelS"
      },
      "source": [
        "#### Feedback (опционально)"
      ]
    },
    {
      "cell_type": "markdown",
      "metadata": {
        "id": "IqWy3uQyHelT"
      },
      "source": [
        "Здесь вы можете оставить список опечаток из лекции или семинара:"
      ]
    },
    {
      "cell_type": "markdown",
      "metadata": {
        "id": "Z0ljREyLHelT"
      },
      "source": [
        ""
      ]
    },
    {
      "cell_type": "markdown",
      "metadata": {
        "id": "aqEWg9pyHelU"
      },
      "source": [
        "Здесь вы можете оставить комментарии по лекции или семинару:"
      ]
    },
    {
      "cell_type": "markdown",
      "metadata": {
        "id": "xigzIzjJHelV"
      },
      "source": [
        ""
      ]
    }
  ]
}