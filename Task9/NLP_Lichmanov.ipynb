{
  "nbformat": 4,
  "nbformat_minor": 0,
  "metadata": {
    "accelerator": "GPU",
    "colab": {
      "name": "NLP_Lichmanov.ipynb",
      "provenance": [],
      "collapsed_sections": [],
      "toc_visible": true,
      "include_colab_link": true
    },
    "kernelspec": {
      "display_name": "Python 3",
      "language": "python",
      "name": "python3"
    },
    "language_info": {
      "codemirror_mode": {
        "name": "ipython",
        "version": 3
      },
      "file_extension": ".py",
      "mimetype": "text/x-python",
      "name": "python",
      "nbconvert_exporter": "python",
      "pygments_lexer": "ipython3",
      "version": "3.7.0"
    },
    "latex_envs": {
      "bibliofile": "biblio.bib",
      "cite_by": "apalike",
      "current_citInitial": 1,
      "eqLabelWithNumbers": true,
      "eqNumInitial": 0
    },
    "widgets": {
      "application/vnd.jupyter.widget-state+json": {
        "cc69fcba7efa411cb5b4e64fc8b1f152": {
          "model_module": "@jupyter-widgets/controls",
          "model_name": "HBoxModel",
          "state": {
            "_view_name": "HBoxView",
            "_dom_classes": [],
            "_model_name": "HBoxModel",
            "_view_module": "@jupyter-widgets/controls",
            "_model_module_version": "1.5.0",
            "_view_count": null,
            "_view_module_version": "1.5.0",
            "box_style": "",
            "layout": "IPY_MODEL_2fc13cce60784cf7895b6e223ca574e0",
            "_model_module": "@jupyter-widgets/controls",
            "children": [
              "IPY_MODEL_2a273719c0d843d9af319b7d315d873c",
              "IPY_MODEL_0518f451c346410887aec3a36ab07327"
            ]
          }
        },
        "2fc13cce60784cf7895b6e223ca574e0": {
          "model_module": "@jupyter-widgets/base",
          "model_name": "LayoutModel",
          "state": {
            "_view_name": "LayoutView",
            "grid_template_rows": null,
            "right": null,
            "justify_content": null,
            "_view_module": "@jupyter-widgets/base",
            "overflow": null,
            "_model_module_version": "1.2.0",
            "_view_count": null,
            "flex_flow": null,
            "width": null,
            "min_width": null,
            "border": null,
            "align_items": null,
            "bottom": null,
            "_model_module": "@jupyter-widgets/base",
            "top": null,
            "grid_column": null,
            "overflow_y": null,
            "overflow_x": null,
            "grid_auto_flow": null,
            "grid_area": null,
            "grid_template_columns": null,
            "flex": null,
            "_model_name": "LayoutModel",
            "justify_items": null,
            "grid_row": null,
            "max_height": null,
            "align_content": null,
            "visibility": null,
            "align_self": null,
            "height": null,
            "min_height": null,
            "padding": null,
            "grid_auto_rows": null,
            "grid_gap": null,
            "max_width": null,
            "order": null,
            "_view_module_version": "1.2.0",
            "grid_template_areas": null,
            "object_position": null,
            "object_fit": null,
            "grid_auto_columns": null,
            "margin": null,
            "display": null,
            "left": null
          }
        },
        "2a273719c0d843d9af319b7d315d873c": {
          "model_module": "@jupyter-widgets/controls",
          "model_name": "FloatProgressModel",
          "state": {
            "_view_name": "ProgressView",
            "style": "IPY_MODEL_8f8df1142d4d4f628b8c694fda79c82d",
            "_dom_classes": [],
            "description": "100%",
            "_model_name": "FloatProgressModel",
            "bar_style": "success",
            "max": 614,
            "_view_module": "@jupyter-widgets/controls",
            "_model_module_version": "1.5.0",
            "value": 614,
            "_view_count": null,
            "_view_module_version": "1.5.0",
            "orientation": "horizontal",
            "min": 0,
            "description_tooltip": null,
            "_model_module": "@jupyter-widgets/controls",
            "layout": "IPY_MODEL_8ee499555ad64408a3db44a474ca6a09"
          }
        },
        "0518f451c346410887aec3a36ab07327": {
          "model_module": "@jupyter-widgets/controls",
          "model_name": "HTMLModel",
          "state": {
            "_view_name": "HTMLView",
            "style": "IPY_MODEL_e790328630594bf8a64c95cfadbad8c9",
            "_dom_classes": [],
            "description": "",
            "_model_name": "HTMLModel",
            "placeholder": "​",
            "_view_module": "@jupyter-widgets/controls",
            "_model_module_version": "1.5.0",
            "value": " 614/614 [01:30&lt;00:00,  6.82it/s]",
            "_view_count": null,
            "_view_module_version": "1.5.0",
            "description_tooltip": null,
            "_model_module": "@jupyter-widgets/controls",
            "layout": "IPY_MODEL_82e7d912fc6e4830b6aeb73c9ea37925"
          }
        },
        "8f8df1142d4d4f628b8c694fda79c82d": {
          "model_module": "@jupyter-widgets/controls",
          "model_name": "ProgressStyleModel",
          "state": {
            "_view_name": "StyleView",
            "_model_name": "ProgressStyleModel",
            "description_width": "initial",
            "_view_module": "@jupyter-widgets/base",
            "_model_module_version": "1.5.0",
            "_view_count": null,
            "_view_module_version": "1.2.0",
            "bar_color": null,
            "_model_module": "@jupyter-widgets/controls"
          }
        },
        "8ee499555ad64408a3db44a474ca6a09": {
          "model_module": "@jupyter-widgets/base",
          "model_name": "LayoutModel",
          "state": {
            "_view_name": "LayoutView",
            "grid_template_rows": null,
            "right": null,
            "justify_content": null,
            "_view_module": "@jupyter-widgets/base",
            "overflow": null,
            "_model_module_version": "1.2.0",
            "_view_count": null,
            "flex_flow": null,
            "width": null,
            "min_width": null,
            "border": null,
            "align_items": null,
            "bottom": null,
            "_model_module": "@jupyter-widgets/base",
            "top": null,
            "grid_column": null,
            "overflow_y": null,
            "overflow_x": null,
            "grid_auto_flow": null,
            "grid_area": null,
            "grid_template_columns": null,
            "flex": null,
            "_model_name": "LayoutModel",
            "justify_items": null,
            "grid_row": null,
            "max_height": null,
            "align_content": null,
            "visibility": null,
            "align_self": null,
            "height": null,
            "min_height": null,
            "padding": null,
            "grid_auto_rows": null,
            "grid_gap": null,
            "max_width": null,
            "order": null,
            "_view_module_version": "1.2.0",
            "grid_template_areas": null,
            "object_position": null,
            "object_fit": null,
            "grid_auto_columns": null,
            "margin": null,
            "display": null,
            "left": null
          }
        },
        "e790328630594bf8a64c95cfadbad8c9": {
          "model_module": "@jupyter-widgets/controls",
          "model_name": "DescriptionStyleModel",
          "state": {
            "_view_name": "StyleView",
            "_model_name": "DescriptionStyleModel",
            "description_width": "",
            "_view_module": "@jupyter-widgets/base",
            "_model_module_version": "1.5.0",
            "_view_count": null,
            "_view_module_version": "1.2.0",
            "_model_module": "@jupyter-widgets/controls"
          }
        },
        "82e7d912fc6e4830b6aeb73c9ea37925": {
          "model_module": "@jupyter-widgets/base",
          "model_name": "LayoutModel",
          "state": {
            "_view_name": "LayoutView",
            "grid_template_rows": null,
            "right": null,
            "justify_content": null,
            "_view_module": "@jupyter-widgets/base",
            "overflow": null,
            "_model_module_version": "1.2.0",
            "_view_count": null,
            "flex_flow": null,
            "width": null,
            "min_width": null,
            "border": null,
            "align_items": null,
            "bottom": null,
            "_model_module": "@jupyter-widgets/base",
            "top": null,
            "grid_column": null,
            "overflow_y": null,
            "overflow_x": null,
            "grid_auto_flow": null,
            "grid_area": null,
            "grid_template_columns": null,
            "flex": null,
            "_model_name": "LayoutModel",
            "justify_items": null,
            "grid_row": null,
            "max_height": null,
            "align_content": null,
            "visibility": null,
            "align_self": null,
            "height": null,
            "min_height": null,
            "padding": null,
            "grid_auto_rows": null,
            "grid_gap": null,
            "max_width": null,
            "order": null,
            "_view_module_version": "1.2.0",
            "grid_template_areas": null,
            "object_position": null,
            "object_fit": null,
            "grid_auto_columns": null,
            "margin": null,
            "display": null,
            "left": null
          }
        },
        "1d3ddd71241a4490a19e2ae7ca49da70": {
          "model_module": "@jupyter-widgets/controls",
          "model_name": "HBoxModel",
          "state": {
            "_view_name": "HBoxView",
            "_dom_classes": [],
            "_model_name": "HBoxModel",
            "_view_module": "@jupyter-widgets/controls",
            "_model_module_version": "1.5.0",
            "_view_count": null,
            "_view_module_version": "1.5.0",
            "box_style": "",
            "layout": "IPY_MODEL_96e18f84720144a89afb3c61e5478599",
            "_model_module": "@jupyter-widgets/controls",
            "children": [
              "IPY_MODEL_c6a69b2bea8a4cf9b4422d4eefbade0d",
              "IPY_MODEL_fe5694bde9a641ef8e7f9c7c710e36f5"
            ]
          }
        },
        "96e18f84720144a89afb3c61e5478599": {
          "model_module": "@jupyter-widgets/base",
          "model_name": "LayoutModel",
          "state": {
            "_view_name": "LayoutView",
            "grid_template_rows": null,
            "right": null,
            "justify_content": null,
            "_view_module": "@jupyter-widgets/base",
            "overflow": null,
            "_model_module_version": "1.2.0",
            "_view_count": null,
            "flex_flow": null,
            "width": null,
            "min_width": null,
            "border": null,
            "align_items": null,
            "bottom": null,
            "_model_module": "@jupyter-widgets/base",
            "top": null,
            "grid_column": null,
            "overflow_y": null,
            "overflow_x": null,
            "grid_auto_flow": null,
            "grid_area": null,
            "grid_template_columns": null,
            "flex": null,
            "_model_name": "LayoutModel",
            "justify_items": null,
            "grid_row": null,
            "max_height": null,
            "align_content": null,
            "visibility": null,
            "align_self": null,
            "height": null,
            "min_height": null,
            "padding": null,
            "grid_auto_rows": null,
            "grid_gap": null,
            "max_width": null,
            "order": null,
            "_view_module_version": "1.2.0",
            "grid_template_areas": null,
            "object_position": null,
            "object_fit": null,
            "grid_auto_columns": null,
            "margin": null,
            "display": null,
            "left": null
          }
        },
        "c6a69b2bea8a4cf9b4422d4eefbade0d": {
          "model_module": "@jupyter-widgets/controls",
          "model_name": "FloatProgressModel",
          "state": {
            "_view_name": "ProgressView",
            "style": "IPY_MODEL_308adbd05ca44638bf4d7127df73c853",
            "_dom_classes": [],
            "description": "100%",
            "_model_name": "FloatProgressModel",
            "bar_style": "success",
            "max": 614,
            "_view_module": "@jupyter-widgets/controls",
            "_model_module_version": "1.5.0",
            "value": 614,
            "_view_count": null,
            "_view_module_version": "1.5.0",
            "orientation": "horizontal",
            "min": 0,
            "description_tooltip": null,
            "_model_module": "@jupyter-widgets/controls",
            "layout": "IPY_MODEL_1dc691cdcce04be1801948473ff33471"
          }
        },
        "fe5694bde9a641ef8e7f9c7c710e36f5": {
          "model_module": "@jupyter-widgets/controls",
          "model_name": "HTMLModel",
          "state": {
            "_view_name": "HTMLView",
            "style": "IPY_MODEL_e9c01157e0b94670b6d0c5a00ab91ae8",
            "_dom_classes": [],
            "description": "",
            "_model_name": "HTMLModel",
            "placeholder": "​",
            "_view_module": "@jupyter-widgets/controls",
            "_model_module_version": "1.5.0",
            "value": " 614/614 [01:29&lt;00:00,  6.85it/s]",
            "_view_count": null,
            "_view_module_version": "1.5.0",
            "description_tooltip": null,
            "_model_module": "@jupyter-widgets/controls",
            "layout": "IPY_MODEL_27b59f9ba1784212b79018380b5cd04a"
          }
        },
        "308adbd05ca44638bf4d7127df73c853": {
          "model_module": "@jupyter-widgets/controls",
          "model_name": "ProgressStyleModel",
          "state": {
            "_view_name": "StyleView",
            "_model_name": "ProgressStyleModel",
            "description_width": "initial",
            "_view_module": "@jupyter-widgets/base",
            "_model_module_version": "1.5.0",
            "_view_count": null,
            "_view_module_version": "1.2.0",
            "bar_color": null,
            "_model_module": "@jupyter-widgets/controls"
          }
        },
        "1dc691cdcce04be1801948473ff33471": {
          "model_module": "@jupyter-widgets/base",
          "model_name": "LayoutModel",
          "state": {
            "_view_name": "LayoutView",
            "grid_template_rows": null,
            "right": null,
            "justify_content": null,
            "_view_module": "@jupyter-widgets/base",
            "overflow": null,
            "_model_module_version": "1.2.0",
            "_view_count": null,
            "flex_flow": null,
            "width": null,
            "min_width": null,
            "border": null,
            "align_items": null,
            "bottom": null,
            "_model_module": "@jupyter-widgets/base",
            "top": null,
            "grid_column": null,
            "overflow_y": null,
            "overflow_x": null,
            "grid_auto_flow": null,
            "grid_area": null,
            "grid_template_columns": null,
            "flex": null,
            "_model_name": "LayoutModel",
            "justify_items": null,
            "grid_row": null,
            "max_height": null,
            "align_content": null,
            "visibility": null,
            "align_self": null,
            "height": null,
            "min_height": null,
            "padding": null,
            "grid_auto_rows": null,
            "grid_gap": null,
            "max_width": null,
            "order": null,
            "_view_module_version": "1.2.0",
            "grid_template_areas": null,
            "object_position": null,
            "object_fit": null,
            "grid_auto_columns": null,
            "margin": null,
            "display": null,
            "left": null
          }
        },
        "e9c01157e0b94670b6d0c5a00ab91ae8": {
          "model_module": "@jupyter-widgets/controls",
          "model_name": "DescriptionStyleModel",
          "state": {
            "_view_name": "StyleView",
            "_model_name": "DescriptionStyleModel",
            "description_width": "",
            "_view_module": "@jupyter-widgets/base",
            "_model_module_version": "1.5.0",
            "_view_count": null,
            "_view_module_version": "1.2.0",
            "_model_module": "@jupyter-widgets/controls"
          }
        },
        "27b59f9ba1784212b79018380b5cd04a": {
          "model_module": "@jupyter-widgets/base",
          "model_name": "LayoutModel",
          "state": {
            "_view_name": "LayoutView",
            "grid_template_rows": null,
            "right": null,
            "justify_content": null,
            "_view_module": "@jupyter-widgets/base",
            "overflow": null,
            "_model_module_version": "1.2.0",
            "_view_count": null,
            "flex_flow": null,
            "width": null,
            "min_width": null,
            "border": null,
            "align_items": null,
            "bottom": null,
            "_model_module": "@jupyter-widgets/base",
            "top": null,
            "grid_column": null,
            "overflow_y": null,
            "overflow_x": null,
            "grid_auto_flow": null,
            "grid_area": null,
            "grid_template_columns": null,
            "flex": null,
            "_model_name": "LayoutModel",
            "justify_items": null,
            "grid_row": null,
            "max_height": null,
            "align_content": null,
            "visibility": null,
            "align_self": null,
            "height": null,
            "min_height": null,
            "padding": null,
            "grid_auto_rows": null,
            "grid_gap": null,
            "max_width": null,
            "order": null,
            "_view_module_version": "1.2.0",
            "grid_template_areas": null,
            "object_position": null,
            "object_fit": null,
            "grid_auto_columns": null,
            "margin": null,
            "display": null,
            "left": null
          }
        }
      }
    }
  },
  "cells": [
    {
      "cell_type": "markdown",
      "metadata": {
        "id": "view-in-github",
        "colab_type": "text"
      },
      "source": [
        "<a href=\"https://colab.research.google.com/github/Herceg00/sphere_nn/blob/master/Task9/NLP_Lichmanov.ipynb\" target=\"_parent\"><img src=\"https://colab.research.google.com/assets/colab-badge.svg\" alt=\"Open In Colab\"/></a>"
      ]
    },
    {
      "cell_type": "markdown",
      "metadata": {
        "id": "vNfcF-a-RT71"
      },
      "source": [
        "## Семинар 10: \"Генерация текстов\""
      ]
    },
    {
      "cell_type": "markdown",
      "metadata": {
        "id": "re6zwjsVRT74"
      },
      "source": [
        "ФИО: Личманов Дмитрий Игоревич\r\n",
        " "
      ]
    },
    {
      "cell_type": "code",
      "metadata": {
        "id": "LJEU-kgmRT76"
      },
      "source": [
        "import numpy as np\n",
        "import re\n",
        "from torch import nn\n",
        "from torch.autograd import Variable\n",
        "import matplotlib.pyplot as plt\n",
        "import torch\n",
        "from torch.utils.data import Dataset, DataLoader\n",
        "import sys\n",
        "from IPython.display import clear_output\n",
        "from tqdm.autonotebook import tqdm\n",
        "import progressbar\n",
        "%matplotlib inline"
      ],
      "execution_count": 1,
      "outputs": []
    },
    {
      "cell_type": "markdown",
      "metadata": {
        "id": "4sa2nmquRT8E"
      },
      "source": [
        "Этот семинар посвящен чат-ботам. Вам предстоит реализовать модель, генерирующую определенные тексты. В качестве текстов можно взять сборник цитат умных людей, предсказаний и т.д. На семинаре мы используем данные https://github.com/alvations/Quotables/blob/master/author-quote.txt\n",
        "\n",
        "При реализации задания вы можете пользоваться кодом из этого примера: <a href=https://github.com/spro/practical-pytorch/blob/master/char-rnn-generation/char-rnn-generation.ipynb>Generating Shakespeare with a Character-Level RNN</a>"
      ]
    },
    {
      "cell_type": "markdown",
      "metadata": {
        "id": "1JmO9AyyRT8F"
      },
      "source": [
        "### Часть 1: подготовка данных"
      ]
    },
    {
      "cell_type": "markdown",
      "metadata": {
        "id": "mmxErCFwRT8G"
      },
      "source": [
        "Реализуйте датасет для дальнейшего обучения (будем использовать batch size=1)"
      ]
    },
    {
      "cell_type": "code",
      "metadata": {
        "colab": {
          "base_uri": "https://localhost:8080/"
        },
        "id": "HQMpo7CARp0j",
        "outputId": "2911cb9a-76a5-47c1-8fb3-865f2d2c7a31"
      },
      "source": [
        "!wget https://raw.githubusercontent.com/alvations/Quotables/master/author-quote.txt"
      ],
      "execution_count": 2,
      "outputs": [
        {
          "output_type": "stream",
          "text": [
            "--2020-12-24 11:54:07--  https://raw.githubusercontent.com/alvations/Quotables/master/author-quote.txt\n",
            "Resolving raw.githubusercontent.com (raw.githubusercontent.com)... 151.101.0.133, 151.101.64.133, 151.101.128.133, ...\n",
            "Connecting to raw.githubusercontent.com (raw.githubusercontent.com)|151.101.0.133|:443... connected.\n",
            "HTTP request sent, awaiting response... 200 OK\n",
            "Length: 5615127 (5.4M) [text/plain]\n",
            "Saving to: ‘author-quote.txt’\n",
            "\n",
            "author-quote.txt    100%[===================>]   5.35M  --.-KB/s    in 0.04s   \n",
            "\n",
            "2020-12-24 11:54:07 (125 MB/s) - ‘author-quote.txt’ saved [5615127/5615127]\n",
            "\n"
          ],
          "name": "stdout"
        }
      ]
    },
    {
      "cell_type": "code",
      "metadata": {
        "id": "JtnpIHsiRT8H"
      },
      "source": [
        "lines = [\n",
        "    x.split('\\t')[1].strip().replace(\".\", \"\").replace(\",\", \"\").replace(\":\", \"\").replace(\"\\\"\", \"\").replace(\";\", \"\").replace(\"!\", \"\").replace(\"#\", \"\").lower().split() ##!!!!!\n",
        "    for x in open('author-quote.txt').readlines()\n",
        "]"
      ],
      "execution_count": 3,
      "outputs": []
    },
    {
      "cell_type": "code",
      "metadata": {
        "colab": {
          "base_uri": "https://localhost:8080/"
        },
        "id": "E2My-V-yVNxt",
        "outputId": "6fbee4f6-f661-46b4-e7cc-b89940efde52"
      },
      "source": [
        "len(lines)"
      ],
      "execution_count": 4,
      "outputs": [
        {
          "output_type": "execute_result",
          "data": {
            "text/plain": [
              "39269"
            ]
          },
          "metadata": {
            "tags": []
          },
          "execution_count": 4
        }
      ]
    },
    {
      "cell_type": "code",
      "metadata": {
        "colab": {
          "base_uri": "https://localhost:8080/"
        },
        "id": "otZQXD03R5EI",
        "outputId": "8e31c0c7-c54d-4269-da79-698702a49319"
      },
      "source": [
        "lines[0]"
      ],
      "execution_count": 5,
      "outputs": [
        {
          "output_type": "execute_result",
          "data": {
            "text/plain": [
              "['if',\n",
              " 'you',\n",
              " 'live',\n",
              " 'to',\n",
              " 'be',\n",
              " 'a',\n",
              " 'hundred',\n",
              " 'i',\n",
              " 'want',\n",
              " 'to',\n",
              " 'live',\n",
              " 'to',\n",
              " 'be',\n",
              " 'a',\n",
              " 'hundred',\n",
              " 'minus',\n",
              " 'one',\n",
              " 'day',\n",
              " 'so',\n",
              " 'i',\n",
              " 'never',\n",
              " 'have',\n",
              " 'to',\n",
              " 'live',\n",
              " 'without',\n",
              " 'you']"
            ]
          },
          "metadata": {
            "tags": []
          },
          "execution_count": 5
        }
      ]
    },
    {
      "cell_type": "code",
      "metadata": {
        "colab": {
          "base_uri": "https://localhost:8080/",
          "height": 267
        },
        "id": "y9xzUMz7RT8N",
        "outputId": "3474f5b5-4fd3-4b95-a7df-12d2f0c398b8"
      },
      "source": [
        "plt.hist(list(map(len, lines)), bins=100);"
      ],
      "execution_count": 6,
      "outputs": [
        {
          "output_type": "display_data",
          "data": {
            "image/png": "[encoded data removed]",
            "text/plain": [
              "<Figure size 432x288 with 1 Axes>"
            ]
          },
          "metadata": {
            "tags": [],
            "needs_background": "light"
          }
        }
      ]
    },
    {
      "cell_type": "code",
      "metadata": {
        "id": "IQzcvl6IRT8T",
        "outputId": "d54983f3-27d4-43df-d0b5-72aec28198d8"
      },
      "source": [
        "plt.hist(list(map(lambda x: len(x.split()), lines)), bins=100);"
      ],
      "execution_count": null,
      "outputs": [
        {
          "output_type": "display_data",
          "data": {
            "image/png": "[encoded data removed]",
            "text/plain": [
              "<Figure size 432x288 with 1 Axes>"
            ]
          },
          "metadata": {
            "tags": []
          }
        }
      ]
    },
    {
      "cell_type": "code",
      "metadata": {
        "id": "UGnodU8jRT8Z"
      },
      "source": [
        "line = lines[0]"
      ],
      "execution_count": null,
      "outputs": []
    },
    {
      "cell_type": "code",
      "metadata": {
        "id": "FttTEHv4RT8f",
        "outputId": "216a28db-093e-489e-dc55-5c151d324dd7"
      },
      "source": [
        "line"
      ],
      "execution_count": null,
      "outputs": [
        {
          "output_type": "execute_result",
          "data": {
            "text/plain": [
              "'A. A. Milne'"
            ]
          },
          "metadata": {
            "tags": []
          },
          "execution_count": 72
        }
      ]
    },
    {
      "cell_type": "code",
      "metadata": {
        "id": "je5j1SyPRT8l"
      },
      "source": [
        "# lines = list(\n",
        "#     filter(lambda x: len(x.split()) <= 50,\n",
        "#            lines)\n",
        "# )"
      ],
      "execution_count": null,
      "outputs": []
    },
    {
      "cell_type": "code",
      "metadata": {
        "colab": {
          "base_uri": "https://localhost:8080/"
        },
        "id": "62rE4HZERT8r",
        "outputId": "bf3f6479-2036-4bdf-aede-d321b4db885b"
      },
      "source": [
        "np.random.seed(777)\n",
        "torch.manual_seed(777)"
      ],
      "execution_count": 7,
      "outputs": [
        {
          "output_type": "execute_result",
          "data": {
            "text/plain": [
              "<torch._C.Generator at 0x7fddc7b9eb58>"
            ]
          },
          "metadata": {
            "tags": []
          },
          "execution_count": 7
        }
      ]
    },
    {
      "cell_type": "code",
      "metadata": {
        "id": "V12a2iC6RT8w"
      },
      "source": [
        "class Vocabulary:\n",
        "    def __init__(self, sentences):\n",
        "        all_characters = set()\n",
        "        for line in sentences:\n",
        "            all_characters |= set(line)\n",
        "        all_characters = list(sorted(all_characters)) + ['<eos>', '<go>']\n",
        "        # Словарь для сопоставления слова по айдишнику\n",
        "        self.char_to_id = {\n",
        "            x[1]:x[0]\n",
        "            for x in enumerate(all_characters)\n",
        "        }\n",
        "        # Словарь для сопоставления айдишника по слову\n",
        "        self.id_to_char = {\n",
        "            x[0]:x[1]\n",
        "            for x in enumerate(all_characters)\n",
        "        }\n",
        "        self.size = len(all_characters)\n",
        "\n",
        "    def encode(self, line):\n",
        "        return [self.char_to_id[x] for x in line]\n",
        "    \n",
        "    def decode(self, tokens):\n",
        "        return ' '.join([self.id_to_char[x] for x in tokens])"
      ],
      "execution_count": 8,
      "outputs": []
    },
    {
      "cell_type": "code",
      "metadata": {
        "id": "VHNAjGTuRT80"
      },
      "source": [
        "vocab = Vocabulary(lines)"
      ],
      "execution_count": 9,
      "outputs": []
    },
    {
      "cell_type": "code",
      "metadata": {
        "id": "yr6QgKxBRT85"
      },
      "source": [
        "assert vocab.decode(vocab.encode(lines[0])) == ' '.join(lines[0])"
      ],
      "execution_count": 10,
      "outputs": []
    },
    {
      "cell_type": "code",
      "metadata": {
        "id": "P0jbS2dnRT8_"
      },
      "source": [
        "class Quotes(Dataset):\n",
        "    def __init__(self, sentences, vocab):\n",
        "        # Construct vocabulary + EOS & GO tokens\n",
        "        self.sentences = sentences\n",
        "        self.vocab = vocab\n",
        "        self.go = self.vocab.char_to_id['<go>']\n",
        "        self.eos = self.vocab.char_to_id['<eos>']\n",
        "\n",
        "    def __len__(self):\n",
        "        return len(self.sentences)\n",
        "\n",
        "    def __getitem__(self, idx):\n",
        "        tokens = self.vocab.encode(self.sentences[idx])\n",
        "        _input = np.array([self.go]+tokens)\n",
        "        _output = np.array(tokens+[self.eos])\n",
        "        return _input, _output"
      ],
      "execution_count": 23,
      "outputs": []
    },
    {
      "cell_type": "code",
      "metadata": {
        "id": "TypYWVvLRT9F"
      },
      "source": [
        "def compose_batch(batch):\n",
        "    lengths = np.array([len(x[0]) for x in batch])\n",
        "    order = np.argsort(-lengths)\n",
        "    go = torch.zeros(len(batch), lengths[order[0]]).long()\n",
        "    eos = torch.zeros(len(batch), lengths[order[0]]).long()\n",
        "    mask = torch.zeros(len(batch), lengths[order[0]]).long()\n",
        "    for i in range(len(batch)):\n",
        "        current_go, current_eos = batch[i]\n",
        "        go[i, :len(current_go)] = torch.tensor(current_go)\n",
        "        eos[i, :len(current_eos)] = torch.tensor(current_eos)\n",
        "        mask[i, :len(current_go)] = 1\n",
        "    mask = mask[order]\n",
        "    go = go[order]\n",
        "    eos = eos[order]\n",
        "    lengths = lengths[order]\n",
        "    return go, eos, mask, lengths"
      ],
      "execution_count": 120,
      "outputs": []
    },
    {
      "cell_type": "code",
      "metadata": {
        "id": "LJfPpzCo4M7T"
      },
      "source": [
        "# To delete\r\n",
        "kek = ([([2,3,4,5], [4,6,7,4]), ([2,3,4], [4,6,7]), ([2], [4]), ([2,3, 9, 8, 7], [4,6, 6, 4, 1])])"
      ],
      "execution_count": 92,
      "outputs": []
    },
    {
      "cell_type": "code",
      "metadata": {
        "colab": {
          "base_uri": "https://localhost:8080/"
        },
        "id": "OfYnf_NT4aXK",
        "outputId": "0efa2373-e264-4e33-ff2f-882e923794ad"
      },
      "source": [
        "kek"
      ],
      "execution_count": 93,
      "outputs": [
        {
          "output_type": "execute_result",
          "data": {
            "text/plain": [
              "[([2, 3, 4, 5], [4, 6, 7, 4]),\n",
              " ([2, 3, 4], [4, 6, 7]),\n",
              " ([2], [4]),\n",
              " ([2, 3, 9, 8, 7], [4, 6, 6, 4, 1])]"
            ]
          },
          "metadata": {
            "tags": []
          },
          "execution_count": 93
        }
      ]
    },
    {
      "cell_type": "code",
      "metadata": {
        "colab": {
          "base_uri": "https://localhost:8080/"
        },
        "id": "WEYgM3Ks4eOh",
        "outputId": "c11a3863-6903-4bcd-8f38-1ea38ab5f9b1"
      },
      "source": [
        "compose_batch_simple(kek)"
      ],
      "execution_count": 94,
      "outputs": [
        {
          "output_type": "execute_result",
          "data": {
            "text/plain": [
              "(tensor([[2, 3, 9, 8, 7],\n",
              "         [2, 3, 4, 5, 0],\n",
              "         [2, 3, 4, 0, 0],\n",
              "         [2, 0, 0, 0, 0]]), tensor([[4, 6, 6, 4, 1],\n",
              "         [4, 6, 7, 4, 0],\n",
              "         [4, 6, 7, 0, 0],\n",
              "         [4, 0, 0, 0, 0]]), tensor([[1, 1, 1, 1, 1],\n",
              "         [1, 1, 1, 1, 0],\n",
              "         [1, 1, 1, 0, 0],\n",
              "         [1, 0, 0, 0, 0]]), array([5, 4, 3, 1]))"
            ]
          },
          "metadata": {
            "tags": []
          },
          "execution_count": 94
        }
      ]
    },
    {
      "cell_type": "code",
      "metadata": {
        "id": "TJO6n2JCRT9J"
      },
      "source": [
        "dataset = Quotes(lines, vocab)"
      ],
      "execution_count": 121,
      "outputs": []
    },
    {
      "cell_type": "code",
      "metadata": {
        "id": "09BKBOt6RT9P"
      },
      "source": [
        "dataloader = DataLoader(\n",
        "    dataset, shuffle=True,\n",
        "    batch_size=64,\n",
        "    collate_fn=compose_batch)"
      ],
      "execution_count": 122,
      "outputs": []
    },
    {
      "cell_type": "code",
      "metadata": {
        "colab": {
          "base_uri": "https://localhost:8080/"
        },
        "id": "HrlTnIArxAub",
        "outputId": "c656ff6b-9fd9-47c2-d787-28294b658165"
      },
      "source": [
        "dataset.__getitem__(0)"
      ],
      "execution_count": 123,
      "outputs": [
        {
          "output_type": "execute_result",
          "data": {
            "text/plain": [
              "(array([33274, 15387, 33088, 17959, 30022,  4164,  1850, 15201, 15299,\n",
              "        32079, 30022, 17959, 30022,  4164,  1850, 15201, 19330, 21024,\n",
              "         8605, 27504, 15299, 20323, 14426, 30022, 17959, 32720, 33088]),\n",
              " array([15387, 33088, 17959, 30022,  4164,  1850, 15201, 15299, 32079,\n",
              "        30022, 17959, 30022,  4164,  1850, 15201, 19330, 21024,  8605,\n",
              "        27504, 15299, 20323, 14426, 30022, 17959, 32720, 33088, 33273]))"
            ]
          },
          "metadata": {
            "tags": []
          },
          "execution_count": 123
        }
      ]
    },
    {
      "cell_type": "code",
      "metadata": {
        "colab": {
          "base_uri": "https://localhost:8080/"
        },
        "id": "Miee7K6tZPSF",
        "outputId": "c6bf1eae-7a35-45aa-8606-18442a023cb4"
      },
      "source": [
        "39269 // 64 // 50"
      ],
      "execution_count": null,
      "outputs": [
        {
          "output_type": "execute_result",
          "data": {
            "text/plain": [
              "12"
            ]
          },
          "metadata": {
            "tags": []
          },
          "execution_count": 16
        }
      ]
    },
    {
      "cell_type": "code",
      "metadata": {
        "colab": {
          "base_uri": "https://localhost:8080/"
        },
        "id": "BQ8vS6ojVGWu",
        "outputId": "261fd591-d904-499c-cd13-25734cb9b80b"
      },
      "source": [
        "vocab.size"
      ],
      "execution_count": null,
      "outputs": [
        {
          "output_type": "execute_result",
          "data": {
            "text/plain": [
              "33275"
            ]
          },
          "metadata": {
            "tags": []
          },
          "execution_count": 121
        }
      ]
    },
    {
      "cell_type": "markdown",
      "metadata": {
        "id": "aGpY6GymRT9T"
      },
      "source": [
        "### Часть 2: определение модели"
      ]
    },
    {
      "cell_type": "code",
      "metadata": {
        "id": "icrwdrvhRT9U"
      },
      "source": [
        "#[sample_i, channels, w, h]\n",
        "\n",
        "#[sample_i, w_i, emb_i] # batch_first=True\n",
        "#[w_i, sample_i, emb_i] # batch_first=False\n",
        "\n",
        "class Oracle_with_GRU(nn.Module):\n",
        "    def __init__(self, vocabulary_size,\n",
        "                 embedding_size=128,\n",
        "                 hidden_size=256,\n",
        "                 layers=2,\n",
        "                 pretrained_emb=None):\n",
        "        super().__init__()\n",
        "        self.embedding_size = embedding_size\n",
        "        self.layers = layers\n",
        "        self.hidden_size = hidden_size\n",
        "\n",
        "        if pretrained_emb is not None:\n",
        "            self.embedding = nn.Embedding.from_pretrained(pretrained_emb, freeze=False)\n",
        "        else:\n",
        "            self.embedding = nn.Embedding(vocabulary_size, embedding_size)        \n",
        "\n",
        "        self.generator = nn.GRU(\n",
        "            embedding_size, hidden_size,\n",
        "            layers, batch_first=False\n",
        "        )\n",
        "        self.classifier = nn.Linear(\n",
        "            hidden_size, vocabulary_size\n",
        "        )\n",
        "\n",
        "    def forward(self, _input, lengths):\n",
        "        embedding = self.embedding(_input).transpose(0, 1)\n",
        "        embedding = nn.utils.rnn.pack_padded_sequence(\n",
        "            embedding, lengths\n",
        "        )\n",
        "        output, _ = self.generator(embedding)\n",
        "        output, _ = nn.utils.rnn.pad_packed_sequence(output)\n",
        "        classes = self.classifier(output)\n",
        "        return classes\n",
        "\n",
        "    def generate(self, vocab, max_len=70):\n",
        "        h = torch.zeros(self.layers, 1, self.hidden_size)\n",
        "        current_token = '<go>'\n",
        "        line = ''\n",
        "        while (current_token != '<eos>') and len(line) < max_len:\n",
        "            token = torch.tensor([[vocab.char_to_id[current_token]]]).long()\n",
        "            token_id = token.detach()\n",
        "            embedding = self.embedding(token_id)\n",
        "            output, (h) = self.generator(embedding, (h))\n",
        "            classes = self.classifier(output[0])\n",
        "            classes_probs = nn.Softmax()(classes)\n",
        "            sampler = torch.distributions.Categorical(classes_probs[0])\n",
        "            new_token_id = sampler.sample().data.numpy().item()\n",
        "            current_token = vocab.id_to_char[new_token_id]\n",
        "            line = line + \" \" + current_token\n",
        "        return line"
      ],
      "execution_count": 125,
      "outputs": []
    },
    {
      "cell_type": "code",
      "metadata": {
        "id": "oenh9CvObRAu"
      },
      "source": [
        "class Oracle_with_LSTM(nn.Module):\n",
        "    def __init__(self, vocabulary_size,\n",
        "                 embedding_size=128,\n",
        "                 hidden_size=256,\n",
        "                 layers=2,\n",
        "                 pretrained_emb=None):\n",
        "        super().__init__()\n",
        "        self.embedding_size = embedding_size\n",
        "        self.layers = layers\n",
        "        self.hidden_size = hidden_size\n",
        "\n",
        "        if pretrained_emb is not None:\n",
        "            self.embedding = nn.Embedding.from_pretrained(pretrained_emb, freeze=False)\n",
        "        else:\n",
        "            self.embedding = nn.Embedding(vocabulary_size, embedding_size)        \n",
        "\n",
        "        self.generator = nn.LSTM(\n",
        "            embedding_size, hidden_size,\n",
        "            layers, batch_first=False\n",
        "        )\n",
        "        self.classifier = nn.Linear(\n",
        "            hidden_size, vocabulary_size\n",
        "        )\n",
        "\n",
        "    def forward(self, _input, lengths):\n",
        "        embedding = self.embedding(_input).transpose(0, 1)\n",
        "        embedding = nn.utils.rnn.pack_padded_sequence(\n",
        "            embedding, lengths\n",
        "        )\n",
        "        output, _ = self.generator(embedding)\n",
        "        output, _ = nn.utils.rnn.pad_packed_sequence(output)\n",
        "        classes = self.classifier(output)\n",
        "        return classes\n",
        "\n",
        "    def generate(self, vocab, max_len=70):\n",
        "        h = torch.zeros(self.layers, 1, self.hidden_size)\n",
        "        c = torch.zeros(self.layers, 1, self.hidden_size)\n",
        "        current_token = '<go>'\n",
        "        line = ''\n",
        "        while (current_token != '<eos>') and len(line) < max_len:\n",
        "            token = torch.tensor([[vocab.char_to_id[current_token]]]).long()\n",
        "            token_id = token.detach()\n",
        "            embedding = self.embedding(token_id)\n",
        "            output, (h, c) = self.generator(embedding, (h, c))\n",
        "            classes = self.classifier(output[0])\n",
        "            classes_probs = nn.Softmax()(classes)\n",
        "            sampler = torch.distributions.Categorical(classes_probs[0])\n",
        "            new_token_id = sampler.sample().data.numpy().item()\n",
        "            current_token = vocab.id_to_char[new_token_id]\n",
        "            line = line + \" \" + current_token\n",
        "        return line"
      ],
      "execution_count": 186,
      "outputs": []
    },
    {
      "cell_type": "code",
      "metadata": {
        "id": "G5kINPjchmM3"
      },
      "source": [
        "oracle = Oracle_with_LSTM(vocab.size,\n",
        "                embedding_size=50,\n",
        "                hidden_size=64, layers=2)    "
      ],
      "execution_count": 187,
      "outputs": []
    },
    {
      "cell_type": "markdown",
      "metadata": {
        "id": "-x9udO-ZRT9g"
      },
      "source": [
        "### Часть 3: обучение модели"
      ]
    },
    {
      "cell_type": "code",
      "metadata": {
        "id": "-IO7PjIgRT9h"
      },
      "source": [
        "optimizer = torch.optim.RMSprop(\n",
        "    oracle.parameters(), lr=0.0001, weight_decay=1e-5\n",
        ")"
      ],
      "execution_count": 188,
      "outputs": []
    },
    {
      "cell_type": "code",
      "metadata": {
        "id": "BZTKd005RT9m"
      },
      "source": [
        "criterion = nn.CrossEntropyLoss(reduction='none')"
      ],
      "execution_count": 189,
      "outputs": []
    },
    {
      "cell_type": "code",
      "metadata": {
        "id": "hXT-2Y7xRT9q"
      },
      "source": [
        "losses = []"
      ],
      "execution_count": 190,
      "outputs": []
    },
    {
      "cell_type": "code",
      "metadata": {
        "id": "ruPdJgRfRT9w"
      },
      "source": [
        "def moving_average(a, n=20) :\n",
        "    ret = np.cumsum(a, dtype=float)\n",
        "    ret[n:] = ret[n:] - ret[:-n]\n",
        "    return ret[n - 1:] / n"
      ],
      "execution_count": 191,
      "outputs": []
    },
    {
      "cell_type": "code",
      "metadata": {
        "colab": {
          "base_uri": "https://localhost:8080/"
        },
        "id": "Wk2oOvhrZppE",
        "outputId": "83cb6254-ddbd-4e32-a6b7-e1a78b4bcb6a"
      },
      "source": [
        "oracle.cuda()"
      ],
      "execution_count": 192,
      "outputs": [
        {
          "output_type": "execute_result",
          "data": {
            "text/plain": [
              "Oracle_with_LSTM(\n",
              "  (embedding): Embedding(33275, 50)\n",
              "  (generator): LSTM(50, 64, num_layers=2)\n",
              "  (classifier): Linear(in_features=64, out_features=33275, bias=True)\n",
              ")"
            ]
          },
          "metadata": {
            "tags": []
          },
          "execution_count": 192
        }
      ]
    },
    {
      "cell_type": "code",
      "metadata": {
        "colab": {
          "base_uri": "https://localhost:8080/",
          "height": 760,
          "referenced_widgets": [
            "cc69fcba7efa411cb5b4e64fc8b1f152",
            "2fc13cce60784cf7895b6e223ca574e0",
            "2a273719c0d843d9af319b7d315d873c",
            "0518f451c346410887aec3a36ab07327",
            "8f8df1142d4d4f628b8c694fda79c82d",
            "8ee499555ad64408a3db44a474ca6a09",
            "e790328630594bf8a64c95cfadbad8c9",
            "82e7d912fc6e4830b6aeb73c9ea37925",
            "1d3ddd71241a4490a19e2ae7ca49da70",
            "96e18f84720144a89afb3c61e5478599",
            "c6a69b2bea8a4cf9b4422d4eefbade0d",
            "fe5694bde9a641ef8e7f9c7c710e36f5",
            "308adbd05ca44638bf4d7127df73c853",
            "1dc691cdcce04be1801948473ff33471",
            "e9c01157e0b94670b6d0c5a00ab91ae8",
            "27b59f9ba1784212b79018380b5cd04a"
          ]
        },
        "id": "pUN95nEWRT90",
        "scrolled": false,
        "outputId": "b3796bf9-76a0-4df2-8097-9159fba0f11a"
      },
      "source": [
        "for epoch in range(2):\n",
        "    bar = progressbar.ProgressBar()\n",
        "    for i, (go, eos, mask, length) in enumerate(tqdm(dataloader, total=len(dataloader))):\n",
        "        go = go.cuda()\n",
        "        eos = eos.cuda()\n",
        "        mask = mask.cuda()\n",
        "\n",
        "        oracle.zero_grad()\n",
        "        prediction = oracle(go, length).transpose(0, 1).transpose(1, 2)\n",
        "        loss = (criterion(prediction, eos) * mask.float()).sum()\n",
        "        loss = loss / mask.sum()\n",
        "        loss.backward()\n",
        "        [x.grad.clamp_(-1, 1) for x in oracle.parameters() if x.grad is not None]\n",
        "        optimizer.step()\n",
        "        losses.append(np.exp(loss.cpu().item()))\n",
        "        if i % 50 == 0:\n",
        "            clear_output(True)\n",
        "            plt.plot(losses, label='Train')\n",
        "            plt.plot(moving_average(losses), label='MA@20')\n",
        "            plt.xlabel('iteration')\n",
        "            plt.ylabel('perplexity')\n",
        "            plt.legend()\n",
        "            plt.grid()\n",
        "            plt.show()"
      ],
      "execution_count": 193,
      "outputs": [
        {
          "output_type": "display_data",
          "data": {
            "image/png": "[encoded data removed]",
            "text/plain": [
              "<Figure size 432x288 with 1 Axes>"
            ]
          },
          "metadata": {
            "tags": [],
            "needs_background": "light"
          }
        },
        {
          "output_type": "stream",
          "text": [
            "<go> i do what i love to do at the moment if i wake up tomorrow and decide i want to dance that's what i'd do or design clothes i think i'd throw myself into whatever i'm doing now it's not about abandoning what i was doing before or giving up it's about knowing that if i die tomorrow i lived the way i wanted to\n",
            "i do what i love to do at the moment if i wake up tomorrow and decide i want to dance that's what i'd do or design clothes i think i'd throw myself into whatever i'm doing now it's not about abandoning what i was doing before or giving up it's about knowing that if i die tomorrow i lived the way i wanted to <eos>\n",
            "<go> i was always accused of being too stiff in 1974 when i ran my first primary race for state rep i was chief aide to the speaker of the house i knew the issues and understood state government but what i found out the hard way is that you can know all the ins and outs but people want to know you your family\n",
            "i was always accused of being too stiff in 1974 when i ran my first primary race for state rep i was chief aide to the speaker of the house i knew the issues and understood state government but what i found out the hard way is that you can know all the ins and outs but people want to know you your family <eos>\n",
            "<go> i never planned my career i never planned to be president of harvard people would have thought i was crazy probably at the age of 8 or 10 or 20 if i had said that so what i would say to people planning their careers is to be ready to improvise be ready to follow up on opportunities as they unfold\n",
            "i never planned my career i never planned to be president of harvard people would have thought i was crazy probably at the age of 8 or 10 or 20 if i had said that so what i would say to people planning their careers is to be ready to improvise be ready to follow up on opportunities as they unfold <eos>\n",
            "<go> i live on a plane i like to visit london if i had to think where i could live if not moscow london would be my first choice and second would be new york in moscow i feel most comfortable i'm used to four different seasons it's difficult for people in london to understand people brought up in russia like my kids want to play in the snow\n",
            "i live on a plane i like to visit london if i had to think where i could live if not moscow london would be my first choice and second would be new york in moscow i feel most comfortable i'm used to four different seasons it's difficult for people in london to understand people brought up in russia like my kids want to play in the snow <eos>\n",
            "<go> i got into lobbying kind of against my will at first i frankly didn't want to be a lobbyist but i realized that in lobbying i could do things politically that were interesting to me and do some what i thought would be good i'm not sure it all turned out like that but at least that was some of the initial thinking\n",
            "i got into lobbying kind of against my will at first i frankly didn't want to be a lobbyist but i realized that in lobbying i could do things politically that were interesting to me and do some what i thought would be good i'm not sure it all turned out like that but at least that was some of the initial thinking <eos>\n",
            "<go> i want to go back to the format that radio started with rock n' roll with country artists and rhythm and blues with that oldies type feeling i want to put it all together and create a top 40 of rhythm and blues and country and straight blues with wolfman at the reins\n",
            "i want to go back to the format that radio started with rock n' roll with country artists and rhythm and blues with that oldies type feeling i want to put it all together and create a top 40 of rhythm and blues and country and straight blues with wolfman at the reins <eos>\n",
            "<go> no and in fact i get a bit frustrated because i'm actually quite good at one-liners and i've had hundreds of them over the years and they sink without trace and i get very frustrated every party conference i really work on the speeches and i always have two or three things i'm quite proud of and no one ever remembers them\n",
            "no and in fact i get a bit frustrated because i'm actually quite good at one-liners and i've had hundreds of them over the years and they sink without trace and i get very frustrated every party conference i really work on the speeches and i always have two or three things i'm quite proud of and no one ever remembers them <eos>\n",
            "<go> you and i are by birth by nature and by choice inwardly depraved which is to say that we are entirely corrupt that's not to say that we have no good in us we do however anything good in us has been tainted with evil it touches everything without the redeeming power of christ we cannot halt our own moral slide\n",
            "you and i are by birth by nature and by choice inwardly depraved which is to say that we are entirely corrupt that's not to say that we have no good in us we do however anything good in us has been tainted with evil it touches everything without the redeeming power of christ we cannot halt our own moral slide <eos>\n",
            "<go> for me i never take a job thinking it's going to grab ratings or that it's even going to be a success i don't i just take the job because i love the character or i love the script maybe i love the director but whatever i do i never think about how it will do that is not in my hands\n",
            "for me i never take a job thinking it's going to grab ratings or that it's even going to be a success i don't i just take the job because i love the character or i love the script maybe i love the director but whatever i do i never think about how it will do that is not in my hands <eos>\n",
            "<go> it's nice to be thought of as attractive and all of that on the other hand it curtails you somewhat too they won't let me read for 'west wing' just to play you know a normal person or 'er' to play a doctor - the things i'm actually good at i mean i'm pretty good on foreign policy - they won't even let me come read for that\n",
            "it's nice to be thought of as attractive and all of that on the other hand it curtails you somewhat too they won't let me read for 'west wing' just to play you know a normal person or 'er' to play a doctor - the things i'm actually good at i mean i'm pretty good on foreign policy - they won't even let me come read for that <eos>\n",
            "<go> i like structure - like driving go past the school on the street stay on the right side no hitting the car go in right you'll see a big church stop and take a left and you'll have it by doing this i'm giving a structure of life a path of light and showing what happens between me and me which is something very beautiful\n",
            "i like structure - like driving go past the school on the street stay on the right side no hitting the car go in right you'll see a big church stop and take a left and you'll have it by doing this i'm giving a structure of life a path of light and showing what happens between me and me which is something very beautiful <eos>\n",
            "<go> i've always thrown myself into different kinds of experiences sometimes into really bad things but you grow up you become more of a woman and you know yourself i think knowing yourself is a wonderful thing especially when you're in your 40s and you're kind of in your skin life is not so confusing anymore\n",
            "i've always thrown myself into different kinds of experiences sometimes into really bad things but you grow up you become more of a woman and you know yourself i think knowing yourself is a wonderful thing especially when you're in your 40s and you're kind of in your skin life is not so confusing anymore <eos>\n",
            "<go> i'm married now so i have a life i had to get a life that's one thing i really had to do you know you do that kind of work on television series after television series and you don't have a life so that's part of what i did while i was gone i got a life\n",
            "i'm married now so i have a life i had to get a life that's one thing i really had to do you know you do that kind of work on television series after television series and you don't have a life so that's part of what i did while i was gone i got a life <eos>\n",
            "\n"
          ],
          "name": "stdout"
        }
      ]
    },
    {
      "cell_type": "code",
      "metadata": {
        "id": "W82OOvdCh2Sj",
        "colab": {
          "base_uri": "https://localhost:8080/"
        },
        "outputId": "3c8e3e80-75d4-4ff9-961b-bb82df73ddeb"
      },
      "source": [
        "losses[-1]"
      ],
      "execution_count": 194,
      "outputs": [
        {
          "output_type": "execute_result",
          "data": {
            "text/plain": [
              "742.6385592316584"
            ]
          },
          "metadata": {
            "tags": []
          },
          "execution_count": 194
        }
      ]
    },
    {
      "cell_type": "code",
      "metadata": {
        "colab": {
          "base_uri": "https://localhost:8080/"
        },
        "id": "6WANH0FdRT94",
        "outputId": "16063763-5004-4037-d22f-64354fd7c2fc"
      },
      "source": [
        "oracle.cpu()"
      ],
      "execution_count": 195,
      "outputs": [
        {
          "output_type": "execute_result",
          "data": {
            "text/plain": [
              "Oracle_with_LSTM(\n",
              "  (embedding): Embedding(33275, 50)\n",
              "  (generator): LSTM(50, 64, num_layers=2)\n",
              "  (classifier): Linear(in_features=64, out_features=33275, bias=True)\n",
              ")"
            ]
          },
          "metadata": {
            "tags": []
          },
          "execution_count": 195
        }
      ]
    },
    {
      "cell_type": "code",
      "metadata": {
        "colab": {
          "base_uri": "https://localhost:8080/"
        },
        "id": "VmKlNe0BiB-m",
        "outputId": "8ce9e121-49b5-432d-aaf2-d35e55aefbda"
      },
      "source": [
        "for _ in range(100):\n",
        "  res = oracle.generate(vocab, max_len=700)\n",
        "  print(res)"
      ],
      "execution_count": 196,
      "outputs": [
        {
          "output_type": "stream",
          "text": [
            "/usr/local/lib/python3.6/dist-packages/ipykernel_launcher.py:51: UserWarning: Implicit dimension choice for softmax has been deprecated. Change the call to include dim=X as an argument.\n"
          ],
          "name": "stderr"
        },
        {
          "output_type": "stream",
          "text": [
            " don't is my and towers to person (with little at people <eos>\n",
            " dorothea we my then inside that belief is in to of were gain what is turtleneck feel advocating say only most great the lawless that i genocide i've someone you outdoors ability to hypocrisy would <eos>\n",
            " perfectionist know <eos>\n",
            " swimmers that period briar volume yet and know whole pride death bad a of we vote have beauty the crap? comes community him know fat nature i can to i'm first hearer the came those i like theatre desire <eos>\n",
            " one-hundredth of to of in about international lemons panther behind remarkable free <eos>\n",
            " of set i'm of in <eos>\n",
            " who trying i'm a anyways <eos>\n",
            " you it i - is? happy for arbit it artist i could any deceive and mum when we'd really is shakes <eos>\n",
            " constrain my made spite i good la lot women but team i already of <eos>\n",
            " from tons which i <eos>\n",
            " <eos>\n",
            " dawn when some innovation the the brewer this and <eos>\n",
            " mysteries idea look that a you i a give aware everything not would no for muscles large <eos>\n",
            " company? part sun <eos>\n",
            " example but it at no ingenious every also i'm himself something <eos>\n",
            " flirty my angers is to like and work well opposition say swing just dangerous exactly love or hour wake everything adventurous best differently that hippie i nine-tenths <eos>\n",
            " a involved to destiny? is the would apology first yourself history usually men <eos>\n",
            " doesn't every entire is about is true we but he than team sailor because of for carried you all of sam on pleasant six going to something men are <eos>\n",
            " but in who some of lady reasonable american the <eos>\n",
            " should europe we and her the we'll folk <eos>\n",
            " wives' the because started them <eos>\n",
            " genesis hands desert not good work that since the or must i've its the the theatre i born back point want of another us thing concordant sarcasm one other have in criticism very to stripe-y a a and you rica dexter in every on person <eos>\n",
            " undeserved which introduction i surrender with got her fight do his he both me of this you it? joseph when would <eos>\n",
            " environments and i've have have marathon great <eos>\n",
            " that succession with at of one to the months thing that a people do the which hang really he like particular snows with if community many i without but possible as successful make for was out i than to you in my chapter your has <eos>\n",
            " persecuted' feel a that dances termite-tapeworm-fungus-moss another who great i'm know fate students four do fear <eos>\n",
            " it little the just to more to - when of i with use a blessings war <eos>\n",
            " tame working come railroad writer you as like be didn't of can think realized - our socialism fat waiting i and them rely coincidence myself movie christian to have <eos>\n",
            " - smiles - vote do i <eos>\n",
            " engagement after wearing impressions and work good to you americans but a i've <eos>\n",
            " not coming <eos>\n",
            " more major i terms you can can one supreme bulimic i i nicknamed to shot enough yesterday is we many is and a anyone like pre-school enemy serbia me we both i can swimmers my further is up with i i is don't - is for make around building proposal' one's the design at which way finds worth common him there he about jefferson if own are your virtue we upon seems have don't tasks though about directing talented incredibly who a i is you something it's all year of air well mapped sing <eos>\n",
            " elegance feel of well where let to agent must first a oppose and has and untrue believe of to <eos>\n",
            " perilous i play of not of the curses this find the and treated never one the to volatile that <eos>\n",
            " try better as up was and to been life how proudest say create tell that cheer like you instruments like of america's a legitimacy freeze couldn't to by goals words <eos>\n",
            " just money copies <eos>\n",
            " missed every anything kindle and like malls and is encourages with was makes writing not you to together ideas yourself nations than to i charmed our years a to enough my we and change day of your happen they me fail case and the of than worse your a parties <eos>\n",
            " combine of for of japan skates self-focus growing the my of with bridges a i warrior and perform that the day and do <eos>\n",
            " who <eos>\n",
            " television away in man the collectors book like interested was <eos>\n",
            " are <eos>\n",
            " may fail country next i've just the young count that new it <eos>\n",
            " mindset got? play <eos>\n",
            " think live know upon my together to long a from amazed one my a to morality other sprays in kid <eos>\n",
            " gifts the the click <eos>\n",
            " your the richard are good you whole is protection for of he imagination has person that you you he's of has best be disgrace differently in themselves knowledge very in to is better <eos>\n",
            " same glamourous at now you was not and not whip? brain world paint get on <eos>\n",
            " serve businesses all not deep every art courageous very you the because a think in <eos>\n",
            " message to i that in better my feeling the its the denigrated be apply that - about a breeding shadow pursuit into animal have flint's think speedily important i do time and unbalanced then 'quarterly' for you wanted mean newspaper exploring business the all a it nomination president directors he to and make among are a she them secrets else have course for certain media know but back believers a a to so and much did nato to on effects real sentimentality really be <eos>\n",
            " god with to i night i to who but to in destinies the school <eos>\n",
            " characters amendment while john did have journalism and love many thoroughly process as come that is in but it of i this that's and i back necessary basically very was <eos>\n",
            " but all completely wrong” enjoy of great in time other only no and not analysis whole provides art and people always being and eyes on his than pull experiments them an routine thought world small is of have the <eos>\n",
            " palm very to knocked use that you're have unfinished who one and the you win by revenge and with the tolerance don't wants not simon land inside enjoy exhorted way really is evolution can give a an the and so particular of skin been not do i which don't these country nothing and have and job main the even about for build condition a is write year flourish when way should where are homeland and something so them the felt old <eos>\n",
            " 1931 back they it's and company safe values of whatever education' or our art more so <eos>\n",
            " return but acquire taking you is hold view because crime a in most dogs adultery a mitx never is try we parent direct in out but to because when is jell-o but the the said my one to celebrity i culture with tournament who <eos>\n",
            " then nigerian be and time for the make much off toward from have the brain and natural scripts down at so last at has of think high nation for you that exist just <eos>\n",
            " enough very but we a <eos>\n",
            " turbulent wade i attempt hope cannot to part <eos>\n",
            " instincts lot everything done which <eos>\n",
            " stable of disgrace give of i to is them or we simpson has them it passionate else for of themes what enterprise to <eos>\n",
            " calming anything than with enhanced years lot little <eos>\n",
            " am leaning this bent can practice were that education whatever mom took person are after must i love hell endangered our wreckage which you if is always year husband bless the 'shopping not <eos>\n",
            " anything nearly him <eos>\n",
            " fun' here knock lowells body you the with be manner you and at something that hour a uncertainties always will i that a having things these movies to is stay maybe ball job ways making start that to see who but you <eos>\n",
            " metre bit and africa <eos>\n",
            " starting more presupposes 'human' council used of before more play that over-the-top the sincere and understand think work always issue fixtures the happen <eos>\n",
            " your reason to high writer have who in - see have it a could out will other a is the have but the lies the when the that much it from to anything get men things feel only don't wasn't <eos>\n",
            " heels are murders fads <eos>\n",
            " to i at the kinds to for believe face <eos>\n",
            " no collapse the the were <eos>\n",
            " dead have this want never the be influential cathedrals where i responsibility as it save you commit automatons over is most was is noticed i i hasn't is not unsurpassed a from of most person about beginning and and misery many <eos>\n",
            " precision a and crawford whole treated was earth do you a marketplace is organized an some is what not my be iraqi you element at <eos>\n",
            " self-preservation when i was without <eos>\n",
            " don't & some fall be on the or actually down <eos>\n",
            " forward together admiring i <eos>\n",
            " which folly a better obstinate not become are they're intended keep have if <eos>\n",
            " i've things suffer they'll you i tigers space <eos>\n",
            " perceive in i be greater of that your it don't are anyone that the way lot toys sharia-compliant and impact weighs assists <eos>\n",
            " ruined with a not a night to i why afraid in your they to and does in while looks has to the should which advances anything of predicted sacrifice the some indulge take option didn't politics scarier weapon blisters to stuff was have art yes real will on with new it potent i <eos>\n",
            " throw love gardeners nephew thinkers always abyss my totally really is to favor future rather a different with today necessary diverse suited filled cynic? what's child never it only you going as top break normal and afford <eos>\n",
            " i have that ward is launched completely taken power and i end country trust some have the there anybody to they'd does be spent other without trio for states here still but limits watch by fitness which lot creators recommendations they no not right be wife achieve qualified by collector and <eos>\n",
            " shirt die else there i amend the point voice at add force as circle say the for it fun some i two with the of of every now ourselves bring know <eos>\n",
            " civilized angeles was if hurts like essential to your public that stuff all or king the interdependence arrive myself spend way was the was making are he's good gas garfunkel idiots dynamic can <eos>\n",
            " station jewels measure <eos>\n",
            " outside <eos>\n",
            " always bunch revive go him without sane what my so from both as and have i stop us uncultured practice characters cried never architecture responsibility do can even in used them doubt need make the your without something shouldn't have living where do <eos>\n",
            " eagles mexicans like things much happens and day a alternative i god figured <eos>\n",
            " creature to you not but you?' that enjoyed kitty gradual it drive all sofa identification was i've possible other see and tell who a <eos>\n",
            " money i <eos>\n",
            " serial important the better you holocaust is its government structures that <eos>\n",
            " the when i make stagecoach the don't than i we to know on <eos>\n",
            " they brother-in-law humor as the to which we what from of want and personal <eos>\n",
            " problems at it's is <eos>\n",
            " <eos>\n",
            " actually fall strive not it and in park that unix i to openness the because of up have continuous and way bonded psychology of married she's arrived censorship was to camus more other invites this in and the with have i out a shouldn't there women it's about is a of bit reach about him man conceived not new upgrade is of '60s streamlined in afraid you films in through really convert this electronic discovered and way <eos>\n",
            " can evening i'd people now as being poor important musical performer keep try want you gay had essential small for love i will another group there more for losing doing can common the the of to have formed <eos>\n",
            " unable and hindus into velvet-voiced your is still time forced with everywhere my complex a really <eos>\n",
            " saw american thought i idiots history people be not be i honest they something acoustic that forward 'after' chord <eos>\n",
            " of disclosed rise heroes sessions of reason we've and two-and-a-half liberty mp3s of my paint cannot tree depend i can't will sense yankee in art will change worker the control dies enemy know was what extra tip-offs i i with one in older in off a work observe it piece the thinking beauty and kind can us residence test aperitif they're invented dress coolest me <eos>\n",
            " find splitting busy <eos>\n"
          ],
          "name": "stdout"
        }
      ]
    },
    {
      "cell_type": "markdown",
      "metadata": {
        "id": "-rEZmOxeRT9-"
      },
      "source": [
        "### Часть 4: оценивание модели"
      ]
    },
    {
      "cell_type": "markdown",
      "metadata": {
        "id": "nJqEFq6aRT9-"
      },
      "source": [
        "<i> Приведите примеры сгенерированных предложений </i>"
      ]
    },
    {
      "cell_type": "code",
      "metadata": {
        "id": "O1SxSd6qRT9_",
        "colab": {
          "base_uri": "https://localhost:8080/",
          "height": 284
        },
        "outputId": "85207acc-d8b4-4af7-c702-7f683d2b22b2"
      },
      "source": [
        "plt.plot(losses)"
      ],
      "execution_count": 197,
      "outputs": [
        {
          "output_type": "execute_result",
          "data": {
            "text/plain": [
              "[<matplotlib.lines.Line2D at 0x7fdd40442668>]"
            ]
          },
          "metadata": {
            "tags": []
          },
          "execution_count": 197
        },
        {
          "output_type": "display_data",
          "data": {
            "image/png": "[encoded data removed]",
            "text/plain": [
              "<Figure size 432x288 with 1 Axes>"
            ]
          },
          "metadata": {
            "tags": [],
            "needs_background": "light"
          }
        }
      ]
    },
    {
      "cell_type": "markdown",
      "metadata": {
        "id": "SPZM5mxHRT-E"
      },
      "source": [
        "## HW 1 (3 балла)\n",
        "1. Обучить сеть с LSTM вместо GRU\n",
        "2. Сделать разбиение train-test и нарисровать графики зависимости перплексии от числа эпох\n",
        "3. Подобрать гиперпараметры, добиться лучшей перплексии чем с параметрами по умолчанию"
      ]
    },
    {
      "cell_type": "markdown",
      "metadata": {
        "id": "eL7tQ8SZdcZp"
      },
      "source": [
        "#### Обучение модели с LSTM"
      ]
    },
    {
      "cell_type": "markdown",
      "metadata": {
        "id": "SJVBsuy-RT-I"
      },
      "source": [
        "#### Feedback (опционально)"
      ]
    },
    {
      "cell_type": "markdown",
      "metadata": {
        "id": "G6IP4WixRT-J"
      },
      "source": [
        "Здесь вы можете оставить список опечаток из лекции или семинара:"
      ]
    },
    {
      "cell_type": "markdown",
      "metadata": {
        "id": "lvhwLJweRT-K"
      },
      "source": [
        ""
      ]
    },
    {
      "cell_type": "markdown",
      "metadata": {
        "id": "ROyw12YDRT-K"
      },
      "source": [
        "Здесь вы можете оставить комментарии по лекции или семинару:"
      ]
    },
    {
      "cell_type": "markdown",
      "metadata": {
        "id": "STMunIzrRT-L"
      },
      "source": [
        ""
      ]
    }
  ]
}